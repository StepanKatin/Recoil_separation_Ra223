{
  "nbformat": 4,
  "nbformat_minor": 0,
  "metadata": {
    "colab": {
      "provenance": [],
      "authorship_tag": "ABX9TyNVuMIzaVBlkWgZUbrjOn/V",
      "include_colab_link": true
    },
    "kernelspec": {
      "name": "python3",
      "display_name": "Python 3"
    },
    "language_info": {
      "name": "python"
    }
  },
  "cells": [
    {
      "cell_type": "markdown",
      "metadata": {
        "id": "view-in-github",
        "colab_type": "text"
      },
      "source": [
        "<a href=\"https://colab.research.google.com/github/StepanKatin/Recoil_separation_Ra223/blob/main/deff_recoil_nuclier.ipynb\" target=\"_parent\"><img src=\"https://colab.research.google.com/assets/colab-badge.svg\" alt=\"Open In Colab\"/></a>"
      ]
    },
    {
      "cell_type": "code",
      "execution_count": 1,
      "metadata": {
        "id": "GKJy5T14Wf0V"
      },
      "outputs": [],
      "source": [
        "import math as m"
      ]
    },
    {
      "cell_type": "code",
      "source": [
        "import pandas as pd\n",
        "import numpy as np\n",
        "import random as r"
      ],
      "metadata": {
        "id": "rsMBt7EkWrlA"
      },
      "execution_count": 2,
      "outputs": []
    },
    {
      "cell_type": "code",
      "source": [
        "import scipy.integrate as integr"
      ],
      "metadata": {
        "id": "mdFHX8k2HkRC"
      },
      "execution_count": 3,
      "outputs": []
    },
    {
      "cell_type": "code",
      "source": [
        "import seaborn as sns\n",
        "import matplotlib.pyplot as plt\n"
      ],
      "metadata": {
        "id": "GhDHgXUVD3ZE"
      },
      "execution_count": 4,
      "outputs": []
    },
    {
      "cell_type": "markdown",
      "source": [
        "# Введем константы"
      ],
      "metadata": {
        "id": "JAU-bpXtvAYd"
      }
    },
    {
      "cell_type": "code",
      "source": [
        "me = 9.1093837015*10**(-31) #кг масса электрона\n",
        "Me= 511000 #эВ масса покоя электрона\n",
        "r0 = 2.818*10**(-15) # м радиус электрона\n",
        "Ee = 511*10**(3) *  1.602176634*10**(-19) #Дж энергия покоя электрона в джоулях\n",
        "c = (Ee/me)**(0.5) # вывод константы скорости света м\\с\n",
        "c # м\\с"
      ],
      "metadata": {
        "colab": {
          "base_uri": "https://localhost:8080/"
        },
        "id": "-0EFYOOBeMCt",
        "outputId": "3dd86281-8fe3-4c13-fbe7-f0aeb526cf2d"
      },
      "execution_count": 5,
      "outputs": [
        {
          "output_type": "execute_result",
          "data": {
            "text/plain": [
              "299792766.0075499"
            ]
          },
          "metadata": {},
          "execution_count": 5
        }
      ]
    },
    {
      "cell_type": "code",
      "source": [],
      "metadata": {
        "id": "BFBCB8MBeMMM"
      },
      "execution_count": 5,
      "outputs": []
    },
    {
      "cell_type": "markdown",
      "source": [
        "# В данном эксперементе рассмаривается пролет ядра отдачи радия 223, образовавшегося в результате альфа-распала 227Th.\n",
        "\n",
        "> 227Th --> 223Ra + 4He\n"
      ],
      "metadata": {
        "id": "ITTi1kGnvMOk"
      }
    },
    {
      "cell_type": "markdown",
      "source": [
        "# Введем данные о ионизирующей частице 223Ra"
      ],
      "metadata": {
        "id": "v0EL6hf90qF5"
      }
    },
    {
      "cell_type": "code",
      "source": [
        "E = 100*10**3 #эВ энергия отдачи ядра радия 223\n",
        "M = 223*931.49*10**(9) #МэВ масса ядра радия 223\n",
        "V = 3.05*10**(5) # м\\с скорость ядра отдачи радия 223\n",
        "B = V/c # коэф. бетта\n",
        "Z = 2 # заряд ядра отдачи в единицах позитрона"
      ],
      "metadata": {
        "id": "m5PURdQdlHuE"
      },
      "execution_count": 6,
      "outputs": []
    },
    {
      "cell_type": "markdown",
      "source": [
        "\n",
        "# Введем данные среды\n",
        "Среда представляет воздух давлением 10 -5 Па, что характерно для высокого вакуума"
      ],
      "metadata": {
        "id": "h1D5AhLj3d_P"
      }
    },
    {
      "cell_type": "code",
      "source": [
        "vkam = 0.0628 #м3 объем полусферической камеры радиусом 0,1 м\n",
        "I = 14.53 # эВ ионизационный потенциал азота\n"
      ],
      "metadata": {
        "id": "CihEFtci3hle"
      },
      "execution_count": 7,
      "outputs": []
    },
    {
      "cell_type": "code",
      "source": [
        "mol = 10**(-5)*vkam/(8.314*300) # моль воздуха в камере объемом vkam используя уравнение Мендилеева-Клаперона\n",
        "Na =  6.02214076*10**(23) #число авогадро\n",
        "Ngaza = Na*mol # шт количество атомов воздуха в объеме камеры\n",
        "mgaza = mol*29 # г масса воздуха в камере\n",
        "vkamcm3 = vkam*10**(6) #см3 перевод объема камеры в см3\n",
        "air_density = mgaza/vkamcm3 # г\\см3 плотность воздуха в камере\n",
        "A_air = 28.98 #а.е.м. среднее массовое число воздуха\n",
        "Z_air = 7.3 # единицы позитрона примем средний заряд ядер воздуха за заряд ядра азота"
      ],
      "metadata": {
        "id": "nneuKi_lJiFF"
      },
      "execution_count": 8,
      "outputs": []
    },
    {
      "cell_type": "markdown",
      "source": [
        "# Произведем проверку пригодности формулы Бете-Блоха для расчета (http://nuclphys.sinp.msu.ru/partmat/pm01.htm)"
      ],
      "metadata": {
        "id": "i0wWyrTL09d3"
      }
    },
    {
      "cell_type": "code",
      "source": [
        "((M*(c**2))/Me)/E"
      ],
      "metadata": {
        "colab": {
          "base_uri": "https://localhost:8080/"
        },
        "id": "Jc3y_A79k_P7",
        "outputId": "56e32a2c-05b1-450a-b444-a2581abcdb8e"
      },
      "execution_count": 9,
      "outputs": [
        {
          "output_type": "execute_result",
          "data": {
            "text/plain": [
              "3.6534608515901823e+20"
            ]
          },
          "metadata": {},
          "execution_count": 9
        }
      ]
    },
    {
      "cell_type": "markdown",
      "source": [
        "# Вывод предыдущей ячейки подтверждает легитимность использования формулы Бете-Блоха для расчета ионизационных потерь энергии ионизирующей частицы.\n",
        "\n",
        ">E << (Mc2 )/me\n",
        "\n"
      ],
      "metadata": {
        "id": "yAx1ihFfumCB"
      }
    },
    {
      "cell_type": "code",
      "source": [
        "'''def radium_223_ionization_energy_loss_in_air_f(E):\n",
        "    me = 9.1093837015*10**(-31) #кг масса электрона\n",
        "    Me= 511000 #эВ масса покоя электрона\n",
        "    Ee = 511*10**(3) *  1.602176634*10**(-19) #Дж энергия покоя электрона в джоулях\n",
        "    c = (Ee/me)**(0.5) # вывод константы скорости света м\\с\n",
        "    M = 223*931.49*10**(9) #эВ масса ядра радия 223\n",
        "    V = 3.05*10**(5) # м\\с скорость ядра отдачи радия 223\n",
        "    B = V/c # коэф. бетта\n",
        "    Z = 2 # заряд ядра отдачи в единицах позитрона\n",
        "    air_density = mgaza/vkamcm3 # г\\см3 плотность воздуха в камере\n",
        "    A_air = 28.98 #а.е.м. среднее массовое число воздуха\n",
        "    Z_air = 7.3 # единицы позитрона примем средний заряд ядер воздуха за заряд ядра азота\n",
        "    return 1/(3.1*10**(5)*((Z_air*(Z**2)*air_density)/(A_air*(B**2)))*(11.2+m.log((B**2)/(Z_air*(1-B**2)))-B**2)) '''"
      ],
      "metadata": {
        "id": "7llbRyyrYRpN",
        "colab": {
          "base_uri": "https://localhost:8080/",
          "height": 87
        },
        "outputId": "24428769-2e0c-4876-9350-977f24eb132a"
      },
      "execution_count": 10,
      "outputs": [
        {
          "output_type": "execute_result",
          "data": {
            "text/plain": [
              "'def radium_223_ionization_energy_loss_in_air_f(E):\\n    me = 9.1093837015*10**(-31) #кг масса электрона\\n    Me= 511000 #эВ масса покоя электрона\\n    Ee = 511*10**(3) *  1.602176634*10**(-19) #Дж энергия покоя электрона в джоулях\\n    c = (Ee/me)**(0.5) # вывод константы скорости света м\\\\с\\n    M = 223*931.49*10**(9) #эВ масса ядра радия 223\\n    V = 3.05*10**(5) # м\\\\с скорость ядра отдачи радия 223\\n    B = V/c # коэф. бетта\\n    Z = 2 # заряд ядра отдачи в единицах позитрона\\n    air_density = mgaza/vkamcm3 # г\\\\см3 плотность воздуха в камере\\n    A_air = 28.98 #а.е.м. среднее массовое число воздуха\\n    Z_air = 7.3 # единицы позитрона примем средний заряд ядер воздуха за заряд ядра азота\\n    return 1/(3.1*10**(5)*((Z_air*(Z**2)*air_density)/(A_air*(B**2)))*(11.2+m.log((B**2)/(Z_air*(1-B**2)))-B**2)) '"
            ],
            "application/vnd.google.colaboratory.intrinsic+json": {
              "type": "string"
            }
          },
          "metadata": {},
          "execution_count": 10
        }
      ]
    },
    {
      "cell_type": "code",
      "source": [
        "'''integr.quad(radium_223_ionization_energy_loss_in_air_f, 0, E)'''"
      ],
      "metadata": {
        "colab": {
          "base_uri": "https://localhost:8080/",
          "height": 35
        },
        "id": "XFlEptQ4YVsu",
        "outputId": "fed37f7c-9004-4928-b9f7-cec5fc3e6d25"
      },
      "execution_count": 11,
      "outputs": [
        {
          "output_type": "execute_result",
          "data": {
            "text/plain": [
              "'integr.quad(radium_223_ionization_energy_loss_in_air_f, 0, E)'"
            ],
            "application/vnd.google.colaboratory.intrinsic+json": {
              "type": "string"
            }
          },
          "metadata": {},
          "execution_count": 11
        }
      ]
    },
    {
      "cell_type": "markdown",
      "source": [
        "\n",
        "\n",
        "1.   Опишем движение частицы через кинетическую энергию\n",
        "2.   Запишем изменение Энергии на ионизацию среды, а следовательно изменение скорости\n",
        "3. Определим шаг изменения\n",
        "4. Перепишем функцию которая учитывает уменьшение скорости(энергии) от координаты (пути), а возвращает массив с результатами итерирования\n",
        "5. Построим график\n",
        "6. Проведем интегрирование от 0 до Е  (посмотрим что будет)\n",
        "\n",
        "\n",
        "\n",
        "\n",
        "\n"
      ],
      "metadata": {
        "id": "Cn29TZw7cFld"
      }
    },
    {
      "cell_type": "code",
      "source": [
        "Kf_to_J = 1.602176634*10**(-19) #коэфициент перевода в эв в джоули"
      ],
      "metadata": {
        "id": "wWRZiQlbK_3d"
      },
      "execution_count": 12,
      "outputs": []
    },
    {
      "cell_type": "code",
      "source": [
        "Mkg = 223.0185*1.66053906660*10**(-27) # кг перевод массы 223 радия в кг"
      ],
      "metadata": {
        "id": "ODUZXo6-dy4T"
      },
      "execution_count": 13,
      "outputs": []
    },
    {
      "cell_type": "code",
      "source": [
        "Ej = E * Kf_to_J\n",
        "Ej"
      ],
      "metadata": {
        "colab": {
          "base_uri": "https://localhost:8080/"
        },
        "id": "XIX2KIkJf-68",
        "outputId": "163a4637-b5c7-422d-81b9-c629ce262085"
      },
      "execution_count": 14,
      "outputs": [
        {
          "output_type": "execute_result",
          "data": {
            "text/plain": [
              "1.602176634e-14"
            ]
          },
          "metadata": {},
          "execution_count": 14
        }
      ]
    },
    {
      "cell_type": "code",
      "source": [
        "def V(E, Mkg = 223.0185*1.66053906660*10**(-27)):\n",
        "  Kf_to_J = 1.602176634*10**(-19)\n",
        "  Ej = E*Kf_to_J\n",
        "  V0 = ((2*Ej)/Mkg)**0.5 # m/c\n",
        "  return V0"
      ],
      "metadata": {
        "id": "ngbFRG8WgIGE"
      },
      "execution_count": 15,
      "outputs": []
    },
    {
      "cell_type": "code",
      "source": [
        "  V0 = V(Ej)\n",
        "  B = V0/c\n",
        "  B\n",
        "  m.log((B**2)/(Z_air*(1-B**2)))"
      ],
      "metadata": {
        "colab": {
          "base_uri": "https://localhost:8080/"
        },
        "id": "0v7caavl3ZQB",
        "outputId": "7fc11849-6b6a-44ec-c421-d48791800f63"
      },
      "execution_count": 16,
      "outputs": [
        {
          "output_type": "execute_result",
          "data": {
            "text/plain": [
              "-59.11911256769114"
            ]
          },
          "metadata": {},
          "execution_count": 16
        }
      ]
    },
    {
      "cell_type": "markdown",
      "source": [
        "Скорость сходится в порядках"
      ],
      "metadata": {
        "id": "2ijucfAvrxtb"
      }
    },
    {
      "cell_type": "markdown",
      "source": [
        "Проведем численное моделирование изменения энегии частицы при прохождении через воздух давлением 10*-5 Па"
      ],
      "metadata": {
        "id": "pGw21Xf75QOQ"
      }
    },
    {
      "cell_type": "code",
      "source": [
        "answer=[]\n",
        "dEdx=[]\n",
        "speed = []\n",
        "Etest = 100000\n",
        "while Etest > 25:\n",
        "    E0 = Etest\n",
        "    V0 = V(E0)\n",
        "    B = V0/c\n",
        "    Vklad_sred=((Z_air*(Z**2)*air_density)/(A_air*(B**2)))\n",
        "    Vklad_chast = (11.2+m.log((B**2)/(Z_air*(1-B**2)))-B**2)\n",
        "    dE = 3.1*10**(5)*Vklad_sred*Vklad_chast\n",
        "    dEdx.append(dE)\n",
        "    Etest = Etest + dE\n",
        "    answer.append(Etest)\n",
        "    speed.append(V0)"
      ],
      "metadata": {
        "id": "fGSu27SAhGyd"
      },
      "execution_count": 17,
      "outputs": []
    },
    {
      "cell_type": "code",
      "source": [
        "res = sns.lineplot(x=answer, y = dEdx)\n",
        "res.set(xscale='log')\n"
      ],
      "metadata": {
        "colab": {
          "base_uri": "https://localhost:8080/",
          "height": 451
        },
        "id": "w4KNGI1kA5iE",
        "outputId": "8a4d5bde-3540-49e2-c35d-034174d6e933"
      },
      "execution_count": 18,
      "outputs": [
        {
          "output_type": "execute_result",
          "data": {
            "text/plain": [
              "[None]"
            ]
          },
          "metadata": {},
          "execution_count": 18
        },
        {
          "output_type": "display_data",
          "data": {
            "text/plain": [
              "<Figure size 640x480 with 1 Axes>"
            ],
            "image/png": "[encoded data removed]"
          },
          "metadata": {}
        }
      ]
    },
    {
      "cell_type": "markdown",
      "source": [
        "Проинтегрируем отношение энергии к изменению энергии от координаты, результатом будет являться полный пробег частицы в веществе"
      ],
      "metadata": {
        "id": "DIj-2Lv356kf"
      }
    },
    {
      "cell_type": "code",
      "source": [
        "pip install simpy\n"
      ],
      "metadata": {
        "id": "KhQrX9cbBgMW",
        "outputId": "6f314a91-ace0-455c-a013-272ef53708c5",
        "colab": {
          "base_uri": "https://localhost:8080/"
        }
      },
      "execution_count": 19,
      "outputs": [
        {
          "output_type": "stream",
          "name": "stdout",
          "text": [
            "Collecting simpy\n",
            "  Downloading simpy-4.1.1-py3-none-any.whl (27 kB)\n",
            "Installing collected packages: simpy\n",
            "Successfully installed simpy-4.1.1\n"
          ]
        }
      ]
    },
    {
      "cell_type": "code",
      "source": [
        "import simpy as simp"
      ],
      "metadata": {
        "id": "xWhOHc0ujOP-"
      },
      "execution_count": 20,
      "outputs": []
    },
    {
      "cell_type": "code",
      "source": [
        "from sympy import *\n",
        "init_printing(use_unicode=False, wrap_line=False)\n",
        "EE = Symbol('EE,')\n",
        "diE = Symbol('diE,')\n",
        "integrate(EE/(diE), (EE, 0, 100000))\n",
        "\n",
        "\n",
        "\n"
      ],
      "metadata": {
        "id": "j92H0TkcjgxK",
        "outputId": "ee5990ff-1ae7-4abf-e312-ddd3c6f84818",
        "colab": {
          "base_uri": "https://localhost:8080/",
          "height": 54
        }
      },
      "execution_count": 21,
      "outputs": [
        {
          "output_type": "execute_result",
          "data": {
            "text/plain": [
              "5000000000\n",
              "----------\n",
              "   diE,   "
            ],
            "text/latex": "$\\displaystyle \\frac{5000000000}{diE,}$"
          },
          "metadata": {},
          "execution_count": 21
        }
      ]
    },
    {
      "cell_type": "code",
      "source": [],
      "metadata": {
        "id": "-8s3BxpfApH8"
      },
      "execution_count": 22,
      "outputs": []
    },
    {
      "cell_type": "code",
      "source": [
        "#Zair, density, Aair, Mra, C, Zra  = symbols(\"Zair, density, Aair, Mra, C, Zra\")\n",
        "Zair = Symbol('Zair')\n",
        "density = Symbol('density')\n",
        "Aair = Symbol('Aair')\n",
        "Mra = Symbol('Mra')\n",
        "C = Symbol('C')\n",
        "Zra = Symbol('Zra')\n",
        "Bv = Symbol('Bv')\n",
        "R_radium=integrate(((3.1*10**(5))*((7.3*(2**2)*1.16*10**(-13))/(28.98*(Bv)**2))*(11.2 + log ((Bv**2)/(7.3*(1- (Bv)**2))) - (Bv)**2)), (Bv))\n"
      ],
      "metadata": {
        "id": "dWKU3PiUunN7"
      },
      "execution_count": 54,
      "outputs": []
    },
    {
      "cell_type": "code",
      "source": [
        "bibimbambom=integrate((((2*EE/Mra)**0.5)/C)**2, EE)\n",
        "bibimbambom.subs(EE, 10).evalf()"
      ],
      "metadata": {
        "id": "WwQy6MwP8Ism",
        "outputId": "4c54dcc8-9e8c-40b5-9e5a-845552706fa9",
        "colab": {
          "base_uri": "https://localhost:8080/",
          "height": 59
        }
      },
      "execution_count": 44,
      "outputs": [
        {
          "output_type": "execute_result",
          "data": {
            "text/plain": [
              "               2.0\n",
              "          / 1 \\   \n",
              "100.0*Mra*|---|   \n",
              "          \\Mra/   \n",
              "------------------\n",
              "         2        \n",
              "        C         "
            ],
            "text/latex": "$\\displaystyle \\frac{100.0 Mra \\left(\\frac{1}{Mra}\\right)^{2.0}}{C^{2}}$"
          },
          "metadata": {},
          "execution_count": 44
        }
      ]
    },
    {
      "cell_type": "code",
      "source": [
        "ggs=min(speed)/c\n",
        "bass=R_radium.subs(Bv, 1).evalf()"
      ],
      "metadata": {
        "id": "cDbmDYdJmAZ2"
      },
      "execution_count": 78,
      "outputs": []
    },
    {
      "cell_type": "code",
      "source": [
        "bass"
      ],
      "metadata": {
        "id": "BOd1vjeDn7UH",
        "outputId": "5a8b9f7c-4bb1-4002-944b-832008255c49",
        "colab": {
          "base_uri": "https://localhost:8080/",
          "height": 37
        }
      },
      "execution_count": 79,
      "outputs": [
        {
          "output_type": "execute_result",
          "data": {
            "text/plain": [
              "zoo"
            ],
            "text/latex": "$\\displaystyle \\tilde{\\infty}$"
          },
          "metadata": {},
          "execution_count": 79
        }
      ]
    },
    {
      "cell_type": "code",
      "source": [],
      "metadata": {
        "id": "OIGZvYFurh0e"
      },
      "execution_count": null,
      "outputs": []
    },
    {
      "cell_type": "markdown",
      "source": [
        "## Пока что взять интеграл весьма сложной функции потери энергии взять не удается.\n",
        "## Отойдем от изначального пути и проведем ориентировочный рассчет пробега Радия в высоком вакууме."
      ],
      "metadata": {
        "id": "5Soaas82sIPY"
      }
    },
    {
      "cell_type": "code",
      "source": [],
      "metadata": {
        "id": "CRVh5EYAsYBp"
      },
      "execution_count": null,
      "outputs": []
    }
  ]
}