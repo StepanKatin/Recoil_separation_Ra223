{
  "nbformat": 4,
  "nbformat_minor": 0,
  "metadata": {
    "colab": {
      "provenance": [],
      "authorship_tag": "ABX9TyM+pS84JPlADCNLFcPp5xWh",
      "include_colab_link": true
    },
    "kernelspec": {
      "name": "python3",
      "display_name": "Python 3"
    },
    "language_info": {
      "name": "python"
    }
  },
  "cells": [
    {
      "cell_type": "markdown",
      "metadata": {
        "id": "view-in-github",
        "colab_type": "text"
      },
      "source": [
        "<a href=\"https://colab.research.google.com/github/StepanKatin/Recoil_separation_Ra223/blob/main/deff_recoil_nuclier.ipynb\" target=\"_parent\"><img src=\"https://colab.research.google.com/assets/colab-badge.svg\" alt=\"Open In Colab\"/></a>"
      ]
    },
    {
      "cell_type": "code",
      "execution_count": 1,
      "metadata": {
        "id": "GKJy5T14Wf0V"
      },
      "outputs": [],
      "source": [
        "import math as m"
      ]
    },
    {
      "cell_type": "code",
      "source": [
        "import pandas as pd\n",
        "import numpy as np\n",
        "import random as r"
      ],
      "metadata": {
        "id": "rsMBt7EkWrlA"
      },
      "execution_count": 2,
      "outputs": []
    },
    {
      "cell_type": "code",
      "source": [
        "import scipy.integrate as integr"
      ],
      "metadata": {
        "id": "mdFHX8k2HkRC"
      },
      "execution_count": 3,
      "outputs": []
    },
    {
      "cell_type": "code",
      "source": [
        "import seaborn as sns\n",
        "import matplotlib.pyplot as plt\n"
      ],
      "metadata": {
        "id": "GhDHgXUVD3ZE"
      },
      "execution_count": 4,
      "outputs": []
    },
    {
      "cell_type": "markdown",
      "source": [
        "# Введем константы"
      ],
      "metadata": {
        "id": "JAU-bpXtvAYd"
      }
    },
    {
      "cell_type": "code",
      "source": [
        "me = 9.1093837015*10**(-31) #кг масса электрона\n",
        "Me= 511000 #эВ масса покоя электрона\n",
        "r0 = 2.818*10**(-15) # м радиус электрона\n",
        "Ee = 511*10**(3) *  1.602176634*10**(-19) #Дж энергия покоя электрона в джоулях\n",
        "c = (Ee/me)**(0.5) # вывод константы скорости света м\\с\n",
        "c # м\\с"
      ],
      "metadata": {
        "colab": {
          "base_uri": "https://localhost:8080/"
        },
        "id": "-0EFYOOBeMCt",
        "outputId": "004421c5-ffc6-44be-ba12-4089dcbc8ae4"
      },
      "execution_count": 5,
      "outputs": [
        {
          "output_type": "execute_result",
          "data": {
            "text/plain": [
              "299792766.0075499"
            ]
          },
          "metadata": {},
          "execution_count": 5
        }
      ]
    },
    {
      "cell_type": "code",
      "source": [],
      "metadata": {
        "id": "BFBCB8MBeMMM"
      },
      "execution_count": 5,
      "outputs": []
    },
    {
      "cell_type": "markdown",
      "source": [
        "# В данном эксперементе рассмаривается пролет ядра отдачи радия 223, образовавшегося в результате альфа-распала 227Th.\n",
        "\n",
        "> 227Th --> 223Ra + 4He\n"
      ],
      "metadata": {
        "id": "ITTi1kGnvMOk"
      }
    },
    {
      "cell_type": "markdown",
      "source": [
        "# Введем данные о ионизирующей частице 223Ra"
      ],
      "metadata": {
        "id": "v0EL6hf90qF5"
      }
    },
    {
      "cell_type": "code",
      "source": [
        "E = 100*10**3 #эВ энергия отдачи ядра радия 223\n",
        "M = 223*931.49*10**(9) #МэВ масса ядра радия 223\n",
        "V = 3.05*10**(5) # м\\с скорость ядра отдачи радия 223\n",
        "B = V/c # коэф. бетта\n",
        "Z = 2 # заряд ядра отдачи в единицах позитрона"
      ],
      "metadata": {
        "id": "m5PURdQdlHuE"
      },
      "execution_count": 6,
      "outputs": []
    },
    {
      "cell_type": "markdown",
      "source": [
        "\n",
        "# Введем данные среды\n",
        "Среда представляет воздух давлением 10 -5 Па, что характерно для высокого вакуума"
      ],
      "metadata": {
        "id": "h1D5AhLj3d_P"
      }
    },
    {
      "cell_type": "code",
      "source": [
        "vkam = 0.0628 #м3 объем полусферической камеры радиусом 0,1 м\n",
        "I = 14.53 # эВ ионизационный потенциал азота\n"
      ],
      "metadata": {
        "id": "CihEFtci3hle"
      },
      "execution_count": 7,
      "outputs": []
    },
    {
      "cell_type": "code",
      "source": [
        "mol = 10**(-5)*vkam/(8.314*300) # моль воздуха в камере объемом vkam используя уравнение Мендилеева-Клаперона\n",
        "Na =  6.02214076*10**(23) #число авогадро\n",
        "Ngaza = Na*mol # шт количество атомов воздуха в объеме камеры\n",
        "mgaza = mol*29 # г масса воздуха в камере\n",
        "vkamcm3 = vkam*10**(6) #см3 перевод объема камеры в см3\n",
        "air_density = mgaza/vkamcm3 # г\\см3 плотность воздуха в камере\n",
        "A_air = 28.98 #а.е.м. среднее массовое число воздуха\n",
        "Z_air = 7.3 # единицы позитрона примем средний заряд ядер воздуха за заряд ядра азота"
      ],
      "metadata": {
        "id": "nneuKi_lJiFF"
      },
      "execution_count": 8,
      "outputs": []
    },
    {
      "cell_type": "markdown",
      "source": [
        "# Произведем проверку пригодности формулы Бете-Блоха для расчета (http://nuclphys.sinp.msu.ru/partmat/pm01.htm)"
      ],
      "metadata": {
        "id": "i0wWyrTL09d3"
      }
    },
    {
      "cell_type": "code",
      "source": [
        "((M*(c**2))/Me)/E"
      ],
      "metadata": {
        "colab": {
          "base_uri": "https://localhost:8080/"
        },
        "id": "Jc3y_A79k_P7",
        "outputId": "aba9a53c-3d06-4e95-e24c-35172628aa54"
      },
      "execution_count": 9,
      "outputs": [
        {
          "output_type": "execute_result",
          "data": {
            "text/plain": [
              "3.6534608515901823e+20"
            ]
          },
          "metadata": {},
          "execution_count": 9
        }
      ]
    },
    {
      "cell_type": "markdown",
      "source": [
        "# Вывод предыдущей ячейки подтверждает легитимность использования формулы Бете-Блоха для расчета ионизационных потерь энергии ионизирующей частицы.\n",
        "\n",
        ">E << (Mc2 )/me\n",
        "\n"
      ],
      "metadata": {
        "id": "yAx1ihFfumCB"
      }
    },
    {
      "cell_type": "code",
      "source": [
        "'''def radium_223_ionization_energy_loss_in_air_f(E):\n",
        "    me = 9.1093837015*10**(-31) #кг масса электрона\n",
        "    Me= 511000 #эВ масса покоя электрона\n",
        "    Ee = 511*10**(3) *  1.602176634*10**(-19) #Дж энергия покоя электрона в джоулях\n",
        "    c = (Ee/me)**(0.5) # вывод константы скорости света м\\с\n",
        "    M = 223*931.49*10**(9) #эВ масса ядра радия 223\n",
        "    V = 3.05*10**(5) # м\\с скорость ядра отдачи радия 223\n",
        "    B = V/c # коэф. бетта\n",
        "    Z = 2 # заряд ядра отдачи в единицах позитрона\n",
        "    air_density = mgaza/vkamcm3 # г\\см3 плотность воздуха в камере\n",
        "    A_air = 28.98 #а.е.м. среднее массовое число воздуха\n",
        "    Z_air = 7.3 # единицы позитрона примем средний заряд ядер воздуха за заряд ядра азота\n",
        "    return 1/(3.1*10**(5)*((Z_air*(Z**2)*air_density)/(A_air*(B**2)))*(11.2+m.log((B**2)/(Z_air*(1-B**2)))-B**2)) '''"
      ],
      "metadata": {
        "id": "7llbRyyrYRpN",
        "colab": {
          "base_uri": "https://localhost:8080/",
          "height": 87
        },
        "outputId": "f8342fe9-127f-4be3-dd1c-89eead354e9f"
      },
      "execution_count": 10,
      "outputs": [
        {
          "output_type": "execute_result",
          "data": {
            "text/plain": [
              "'def radium_223_ionization_energy_loss_in_air_f(E):\\n    me = 9.1093837015*10**(-31) #кг масса электрона\\n    Me= 511000 #эВ масса покоя электрона\\n    Ee = 511*10**(3) *  1.602176634*10**(-19) #Дж энергия покоя электрона в джоулях\\n    c = (Ee/me)**(0.5) # вывод константы скорости света м\\\\с\\n    M = 223*931.49*10**(9) #эВ масса ядра радия 223\\n    V = 3.05*10**(5) # м\\\\с скорость ядра отдачи радия 223\\n    B = V/c # коэф. бетта\\n    Z = 2 # заряд ядра отдачи в единицах позитрона\\n    air_density = mgaza/vkamcm3 # г\\\\см3 плотность воздуха в камере\\n    A_air = 28.98 #а.е.м. среднее массовое число воздуха\\n    Z_air = 7.3 # единицы позитрона примем средний заряд ядер воздуха за заряд ядра азота\\n    return 1/(3.1*10**(5)*((Z_air*(Z**2)*air_density)/(A_air*(B**2)))*(11.2+m.log((B**2)/(Z_air*(1-B**2)))-B**2)) '"
            ],
            "application/vnd.google.colaboratory.intrinsic+json": {
              "type": "string"
            }
          },
          "metadata": {},
          "execution_count": 10
        }
      ]
    },
    {
      "cell_type": "code",
      "source": [
        "'''integr.quad(radium_223_ionization_energy_loss_in_air_f, 0, E)'''"
      ],
      "metadata": {
        "colab": {
          "base_uri": "https://localhost:8080/",
          "height": 35
        },
        "id": "XFlEptQ4YVsu",
        "outputId": "773da755-969d-4ebd-d10b-075e9ec78afa"
      },
      "execution_count": 11,
      "outputs": [
        {
          "output_type": "execute_result",
          "data": {
            "text/plain": [
              "'integr.quad(radium_223_ionization_energy_loss_in_air_f, 0, E)'"
            ],
            "application/vnd.google.colaboratory.intrinsic+json": {
              "type": "string"
            }
          },
          "metadata": {},
          "execution_count": 11
        }
      ]
    },
    {
      "cell_type": "markdown",
      "source": [
        "\n",
        "\n",
        "1.   Опишем движение частицы через кинетическую энергию\n",
        "2.   Запишем изменение Энергии на ионизацию среды, а следовательно изменение скорости\n",
        "3. Определим шаг изменения\n",
        "4. Перепишем функцию которая учитывает уменьшение скорости(энергии) от координаты (пути), а возвращает массив с результатами итерирования\n",
        "5. Построим график\n",
        "6. Проведем интегрирование от 0 до Е  (посмотрим что будет)\n",
        "\n",
        "\n",
        "\n",
        "\n",
        "\n"
      ],
      "metadata": {
        "id": "Cn29TZw7cFld"
      }
    },
    {
      "cell_type": "code",
      "source": [
        "Kf_to_J = 1.602176634*10**(-19) #коэфициент перевода в эв в джоули"
      ],
      "metadata": {
        "id": "wWRZiQlbK_3d"
      },
      "execution_count": 12,
      "outputs": []
    },
    {
      "cell_type": "code",
      "source": [
        "Mkg = 223.0185*1.66053906660*10**(-27) # кг перевод массы 223 радия в кг"
      ],
      "metadata": {
        "id": "ODUZXo6-dy4T"
      },
      "execution_count": 13,
      "outputs": []
    },
    {
      "cell_type": "code",
      "source": [
        "Ej = E * Kf_to_J\n",
        "Ej"
      ],
      "metadata": {
        "colab": {
          "base_uri": "https://localhost:8080/"
        },
        "id": "XIX2KIkJf-68",
        "outputId": "edce3a7a-d3ab-4ad8-e3d5-4f32fa82fd50"
      },
      "execution_count": 14,
      "outputs": [
        {
          "output_type": "execute_result",
          "data": {
            "text/plain": [
              "1.602176634e-14"
            ]
          },
          "metadata": {},
          "execution_count": 14
        }
      ]
    },
    {
      "cell_type": "code",
      "source": [
        "def V(E, Mkg = 223.0185*1.66053906660*10**(-27)):\n",
        "  Kf_to_J = 1.602176634*10**(-19)\n",
        "  Ej = E*Kf_to_J\n",
        "  V0 = ((2*Ej)/Mkg)**0.5 # m/c\n",
        "  return V0"
      ],
      "metadata": {
        "id": "ngbFRG8WgIGE"
      },
      "execution_count": 15,
      "outputs": []
    },
    {
      "cell_type": "code",
      "source": [
        "  V0 = V(Ej)\n",
        "  B = V0/c\n",
        "  B\n",
        "  m.log((B**2)/(Z_air*(1-B**2)))"
      ],
      "metadata": {
        "colab": {
          "base_uri": "https://localhost:8080/"
        },
        "id": "0v7caavl3ZQB",
        "outputId": "5e9ab7f7-3889-4348-b64b-9d4e3ebbab72"
      },
      "execution_count": 16,
      "outputs": [
        {
          "output_type": "execute_result",
          "data": {
            "text/plain": [
              "-59.11911256769114"
            ]
          },
          "metadata": {},
          "execution_count": 16
        }
      ]
    },
    {
      "cell_type": "markdown",
      "source": [
        "Скорость сходится в порядках"
      ],
      "metadata": {
        "id": "2ijucfAvrxtb"
      }
    },
    {
      "cell_type": "code",
      "source": [
        "answer=[]\n",
        "dEdx=[]\n",
        "speed = []\n",
        "Etest = 100000\n",
        "while Etest > 25:\n",
        "    E0 = Etest\n",
        "    V0 = V(E0)\n",
        "    B = V0/c\n",
        "    Vklad_sred=((Z_air*(Z**2)*air_density)/(A_air*(B**2)))\n",
        "    Vklad_chast = (11.2+m.log((B**2)/(Z_air*(1-B**2)))-B**2)\n",
        "    dE = 3.1*10**(5)*Vklad_sred*Vklad_chast\n",
        "    dEdx.append(dE)\n",
        "    Etest = Etest + dE\n",
        "    answer.append(Etest)\n",
        "    speed.append(V0)"
      ],
      "metadata": {
        "id": "fGSu27SAhGyd"
      },
      "execution_count": 17,
      "outputs": []
    },
    {
      "cell_type": "code",
      "source": [
        "res = sns.lineplot(y=answer, x = dEdx)\n",
        "res.set(yscale='log')\n"
      ],
      "metadata": {
        "colab": {
          "base_uri": "https://localhost:8080/",
          "height": 447
        },
        "id": "w4KNGI1kA5iE",
        "outputId": "2e212684-33db-4262-f2b9-597179e2641f"
      },
      "execution_count": 34,
      "outputs": [
        {
          "output_type": "execute_result",
          "data": {
            "text/plain": [
              "[None]"
            ]
          },
          "metadata": {},
          "execution_count": 34
        },
        {
          "output_type": "display_data",
          "data": {
            "text/plain": [
              "<Figure size 640x480 with 1 Axes>"
            ],
            "image/png": "[encoded data removed]"
          },
          "metadata": {}
        }
      ]
    },
    {
      "cell_type": "code",
      "source": [
        "pip install simpy\n"
      ],
      "metadata": {
        "id": "KhQrX9cbBgMW",
        "outputId": "3ec45d86-3eca-458d-f34b-95a54a1500f8",
        "colab": {
          "base_uri": "https://localhost:8080/"
        }
      },
      "execution_count": 19,
      "outputs": [
        {
          "output_type": "stream",
          "name": "stdout",
          "text": [
            "Collecting simpy\n",
            "  Downloading simpy-4.1.1-py3-none-any.whl (27 kB)\n",
            "Installing collected packages: simpy\n",
            "Successfully installed simpy-4.1.1\n"
          ]
        }
      ]
    },
    {
      "cell_type": "code",
      "source": [
        "import simpy as simp"
      ],
      "metadata": {
        "id": "xWhOHc0ujOP-"
      },
      "execution_count": 20,
      "outputs": []
    },
    {
      "cell_type": "code",
      "source": [
        "from sympy import *\n",
        "init_printing(use_unicode=False, wrap_line=False)\n",
        "EE = Symbol('EE,')\n",
        "diE = Symbol('diE,')\n",
        "integrate(EE/(diE), (EE, 0, 100000))\n",
        "\n",
        "\n",
        "\n"
      ],
      "metadata": {
        "id": "j92H0TkcjgxK",
        "outputId": "dfefcc85-d9c0-4d54-f2f7-6d255e9dc562",
        "colab": {
          "base_uri": "https://localhost:8080/",
          "height": 54
        }
      },
      "execution_count": 21,
      "outputs": [
        {
          "output_type": "execute_result",
          "data": {
            "text/plain": [
              "5000000000\n",
              "----------\n",
              "   diE,   "
            ],
            "text/latex": "$\\displaystyle \\frac{5000000000}{diE,}$"
          },
          "metadata": {},
          "execution_count": 21
        }
      ]
    },
    {
      "cell_type": "code",
      "source": [
        "sss=0\n",
        "for i in dEdx:\n",
        "  sss=i+sss"
      ],
      "metadata": {
        "id": "gHACm0DvmLDP"
      },
      "execution_count": 22,
      "outputs": []
    },
    {
      "cell_type": "code",
      "source": [
        "sss"
      ],
      "metadata": {
        "id": "GcT4iQlmty-q",
        "outputId": "f22ca52c-0467-4241-c0c3-c3df7c603790",
        "colab": {
          "base_uri": "https://localhost:8080/",
          "height": 37
        }
      },
      "execution_count": 23,
      "outputs": [
        {
          "output_type": "execute_result",
          "data": {
            "text/plain": [
              "-100193.50541805958"
            ],
            "text/latex": "$\\displaystyle -100193.50541806$"
          },
          "metadata": {},
          "execution_count": 23
        }
      ]
    },
    {
      "cell_type": "code",
      "source": [
        "5000000000/sss"
      ],
      "metadata": {
        "id": "IWimKBxjug_V",
        "outputId": "31408bc7-31a1-4852-8166-3a4ede4da986",
        "colab": {
          "base_uri": "https://localhost:8080/",
          "height": 37
        }
      },
      "execution_count": 24,
      "outputs": [
        {
          "output_type": "execute_result",
          "data": {
            "text/plain": [
              "-49903.43415111979"
            ],
            "text/latex": "$\\displaystyle -49903.4341511198$"
          },
          "metadata": {},
          "execution_count": 24
        }
      ]
    },
    {
      "cell_type": "code",
      "source": [
        "BB=diff(EE, EE)"
      ],
      "metadata": {
        "id": "ZbNulg7yunyx"
      },
      "execution_count": 26,
      "outputs": []
    },
    {
      "cell_type": "code",
      "source": [
        "dX = Symbol('dX')\n",
        "AA=diff(dX, dX)"
      ],
      "metadata": {
        "id": "Dyn0aNoYATli"
      },
      "execution_count": 27,
      "outputs": []
    },
    {
      "cell_type": "code",
      "source": [
        "BB/AA"
      ],
      "metadata": {
        "id": "svrIY2ExAnAk",
        "outputId": "5b045171-c629-4246-86c1-9e54ad4fc545",
        "colab": {
          "base_uri": "https://localhost:8080/",
          "height": 37
        }
      },
      "execution_count": 28,
      "outputs": [
        {
          "output_type": "execute_result",
          "data": {
            "text/plain": [
              "1"
            ],
            "text/latex": "$\\displaystyle 1$"
          },
          "metadata": {},
          "execution_count": 28
        }
      ]
    },
    {
      "cell_type": "code",
      "source": [
        "integrate(EE/(diff(EE, EE)/diff(dX, dX)), (EE))"
      ],
      "metadata": {
        "id": "-8s3BxpfApH8",
        "outputId": "ae624315-c095-4b9f-b321-98bcdf918960",
        "colab": {
          "base_uri": "https://localhost:8080/",
          "height": 54
        }
      },
      "execution_count": 45,
      "outputs": [
        {
          "output_type": "execute_result",
          "data": {
            "text/plain": [
              "   2\n",
              "EE, \n",
              "----\n",
              " 2  "
            ],
            "text/latex": "$\\displaystyle \\frac{EE,^{2}}{2}$"
          },
          "metadata": {},
          "execution_count": 45
        }
      ]
    },
    {
      "cell_type": "code",
      "source": [
        "vv = V(1000)"
      ],
      "metadata": {
        "id": "LtrgyBNBA4QE"
      },
      "execution_count": 35,
      "outputs": []
    },
    {
      "cell_type": "code",
      "source": [
        "vv*100\n"
      ],
      "metadata": {
        "id": "NbGbBaTFEMhq",
        "outputId": "fed762a3-da87-4a45-b1a3-54c161b098db",
        "colab": {
          "base_uri": "https://localhost:8080/",
          "height": 37
        }
      },
      "execution_count": 37,
      "outputs": [
        {
          "output_type": "execute_result",
          "data": {
            "text/plain": [
              "2941542.9957258473"
            ],
            "text/latex": "$\\displaystyle 2941542.99572585$"
          },
          "metadata": {},
          "execution_count": 37
        }
      ]
    },
    {
      "cell_type": "code",
      "source": [],
      "metadata": {
        "id": "exHfhZgqENQN"
      },
      "execution_count": null,
      "outputs": []
    }
  ]
}