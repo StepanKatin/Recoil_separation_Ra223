{
  "nbformat": 4,
  "nbformat_minor": 0,
  "metadata": {
    "colab": {
      "provenance": [],
      "authorship_tag": "ABX9TyMfotMII4AE6WkSilTuM4r1",
      "include_colab_link": true
    },
    "kernelspec": {
      "name": "python3",
      "display_name": "Python 3"
    },
    "language_info": {
      "name": "python"
    }
  },
  "cells": [
    {
      "cell_type": "markdown",
      "metadata": {
        "id": "view-in-github",
        "colab_type": "text"
      },
      "source": [
        "<a href=\"https://colab.research.google.com/github/StepanKatin/Recoil_separation_Ra223/blob/main/deff_recoil_nuclier.ipynb\" target=\"_parent\"><img src=\"https://colab.research.google.com/assets/colab-badge.svg\" alt=\"Open In Colab\"/></a>"
      ]
    },
    {
      "cell_type": "code",
      "execution_count": 31,
      "metadata": {
        "id": "GKJy5T14Wf0V"
      },
      "outputs": [],
      "source": [
        "import math as m"
      ]
    },
    {
      "cell_type": "code",
      "source": [
        "import pandas as pd\n",
        "import numpy as np\n",
        "import random as r"
      ],
      "metadata": {
        "id": "rsMBt7EkWrlA"
      },
      "execution_count": 32,
      "outputs": []
    },
    {
      "cell_type": "code",
      "source": [
        "import scipy.integrate as integr"
      ],
      "metadata": {
        "id": "mdFHX8k2HkRC"
      },
      "execution_count": 33,
      "outputs": []
    },
    {
      "cell_type": "code",
      "source": [
        "import seaborn as sns\n",
        "import matplotlib.pyplot as plt\n"
      ],
      "metadata": {
        "id": "GhDHgXUVD3ZE"
      },
      "execution_count": 34,
      "outputs": []
    },
    {
      "cell_type": "markdown",
      "source": [
        "# Введем константы"
      ],
      "metadata": {
        "id": "JAU-bpXtvAYd"
      }
    },
    {
      "cell_type": "code",
      "source": [
        "me = 9.1093837015*10**(-31) #кг масса электрона\n",
        "Me= 511000 #эВ масса покоя электрона\n",
        "r0 = 2.818*10**(-15) # м радиус электрона\n",
        "Ee = 511*10**(3) *  1.602176634*10**(-19) #Дж энергия покоя электрона в джоулях\n",
        "c = (Ee/me)**(0.5) # вывод константы скорости света м\\с\n",
        "c # м\\с"
      ],
      "metadata": {
        "colab": {
          "base_uri": "https://localhost:8080/"
        },
        "id": "-0EFYOOBeMCt",
        "outputId": "004421c5-ffc6-44be-ba12-4089dcbc8ae4"
      },
      "execution_count": null,
      "outputs": [
        {
          "output_type": "execute_result",
          "data": {
            "text/plain": [
              "299792766.0075499"
            ]
          },
          "metadata": {},
          "execution_count": 5
        }
      ]
    },
    {
      "cell_type": "code",
      "source": [],
      "metadata": {
        "id": "BFBCB8MBeMMM"
      },
      "execution_count": null,
      "outputs": []
    },
    {
      "cell_type": "markdown",
      "source": [
        "# В данном эксперементе рассмаривается пролет ядра отдачи радия 223, образовавшегося в результате альфа-распала 227Th.\n",
        "\n",
        "> 227Th --> 223Ra + 4He\n"
      ],
      "metadata": {
        "id": "ITTi1kGnvMOk"
      }
    },
    {
      "cell_type": "markdown",
      "source": [
        "# Введем данные о ионизирующей частице 223Ra"
      ],
      "metadata": {
        "id": "v0EL6hf90qF5"
      }
    },
    {
      "cell_type": "code",
      "source": [
        "E = 100*10**3 #эВ энергия отдачи ядра радия 223\n",
        "M = 223*931.49*10**(9) #МэВ масса ядра радия 223\n",
        "V = 3.05*10**(5) # м\\с скорость ядра отдачи радия 223\n",
        "B = V/c # коэф. бетта\n",
        "Z = 2 # заряд ядра отдачи в единицах позитрона"
      ],
      "metadata": {
        "id": "m5PURdQdlHuE"
      },
      "execution_count": null,
      "outputs": []
    },
    {
      "cell_type": "markdown",
      "source": [
        "\n",
        "# Введем данные среды\n",
        "Среда представляет воздух давлением 10 -5 Па, что характерно для высокого вакуума"
      ],
      "metadata": {
        "id": "h1D5AhLj3d_P"
      }
    },
    {
      "cell_type": "code",
      "source": [
        "vkam = 0.0628 #м3 объем полусферической камеры радиусом 0,1 м\n",
        "I = 14.53 # эВ ионизационный потенциал азота\n"
      ],
      "metadata": {
        "id": "CihEFtci3hle"
      },
      "execution_count": null,
      "outputs": []
    },
    {
      "cell_type": "code",
      "source": [
        "mol = 10**(-5)*vkam/(8.314*300) # моль воздуха в камере объемом vkam используя уравнение Мендилеева-Клаперона\n",
        "Na =  6.02214076*10**(23) #число авогадро\n",
        "Ngaza = Na*mol # шт количество атомов воздуха в объеме камеры\n",
        "mgaza = mol*29 # г масса воздуха в камере\n",
        "vkamcm3 = vkam*10**(6) #см3 перевод объема камеры в см3\n",
        "air_density = mgaza/vkamcm3 # г\\см3 плотность воздуха в камере\n",
        "A_air = 28.98 #а.е.м. среднее массовое число воздуха\n",
        "Z_air = 7.3 # единицы позитрона примем средний заряд ядер воздуха за заряд ядра азота"
      ],
      "metadata": {
        "id": "nneuKi_lJiFF"
      },
      "execution_count": null,
      "outputs": []
    },
    {
      "cell_type": "markdown",
      "source": [
        "# Произведем проверку пригодности формулы Бете-Блоха для расчета (http://nuclphys.sinp.msu.ru/partmat/pm01.htm)"
      ],
      "metadata": {
        "id": "i0wWyrTL09d3"
      }
    },
    {
      "cell_type": "code",
      "source": [
        "((M*(c**2))/Me)/E"
      ],
      "metadata": {
        "colab": {
          "base_uri": "https://localhost:8080/"
        },
        "id": "Jc3y_A79k_P7",
        "outputId": "aba9a53c-3d06-4e95-e24c-35172628aa54"
      },
      "execution_count": null,
      "outputs": [
        {
          "output_type": "execute_result",
          "data": {
            "text/plain": [
              "3.6534608515901823e+20"
            ]
          },
          "metadata": {},
          "execution_count": 9
        }
      ]
    },
    {
      "cell_type": "markdown",
      "source": [
        "# Вывод предыдущей ячейки подтверждает легитимность использования формулы Бете-Блоха для расчета ионизационных потерь энергии ионизирующей частицы.\n",
        "\n",
        ">E << (Mc2 )/me\n",
        "\n"
      ],
      "metadata": {
        "id": "yAx1ihFfumCB"
      }
    },
    {
      "cell_type": "code",
      "source": [
        "'''def radium_223_ionization_energy_loss_in_air_f(E):\n",
        "    me = 9.1093837015*10**(-31) #кг масса электрона\n",
        "    Me= 511000 #эВ масса покоя электрона\n",
        "    Ee = 511*10**(3) *  1.602176634*10**(-19) #Дж энергия покоя электрона в джоулях\n",
        "    c = (Ee/me)**(0.5) # вывод константы скорости света м\\с\n",
        "    M = 223*931.49*10**(9) #эВ масса ядра радия 223\n",
        "    V = 3.05*10**(5) # м\\с скорость ядра отдачи радия 223\n",
        "    B = V/c # коэф. бетта\n",
        "    Z = 2 # заряд ядра отдачи в единицах позитрона\n",
        "    air_density = mgaza/vkamcm3 # г\\см3 плотность воздуха в камере\n",
        "    A_air = 28.98 #а.е.м. среднее массовое число воздуха\n",
        "    Z_air = 7.3 # единицы позитрона примем средний заряд ядер воздуха за заряд ядра азота\n",
        "    return 1/(3.1*10**(5)*((Z_air*(Z**2)*air_density)/(A_air*(B**2)))*(11.2+m.log((B**2)/(Z_air*(1-B**2)))-B**2)) '''"
      ],
      "metadata": {
        "id": "7llbRyyrYRpN",
        "colab": {
          "base_uri": "https://localhost:8080/",
          "height": 87
        },
        "outputId": "f8342fe9-127f-4be3-dd1c-89eead354e9f"
      },
      "execution_count": null,
      "outputs": [
        {
          "output_type": "execute_result",
          "data": {
            "text/plain": [
              "'def radium_223_ionization_energy_loss_in_air_f(E):\\n    me = 9.1093837015*10**(-31) #кг масса электрона\\n    Me= 511000 #эВ масса покоя электрона\\n    Ee = 511*10**(3) *  1.602176634*10**(-19) #Дж энергия покоя электрона в джоулях\\n    c = (Ee/me)**(0.5) # вывод константы скорости света м\\\\с\\n    M = 223*931.49*10**(9) #эВ масса ядра радия 223\\n    V = 3.05*10**(5) # м\\\\с скорость ядра отдачи радия 223\\n    B = V/c # коэф. бетта\\n    Z = 2 # заряд ядра отдачи в единицах позитрона\\n    air_density = mgaza/vkamcm3 # г\\\\см3 плотность воздуха в камере\\n    A_air = 28.98 #а.е.м. среднее массовое число воздуха\\n    Z_air = 7.3 # единицы позитрона примем средний заряд ядер воздуха за заряд ядра азота\\n    return 1/(3.1*10**(5)*((Z_air*(Z**2)*air_density)/(A_air*(B**2)))*(11.2+m.log((B**2)/(Z_air*(1-B**2)))-B**2)) '"
            ],
            "application/vnd.google.colaboratory.intrinsic+json": {
              "type": "string"
            }
          },
          "metadata": {},
          "execution_count": 10
        }
      ]
    },
    {
      "cell_type": "code",
      "source": [
        "'''integr.quad(radium_223_ionization_energy_loss_in_air_f, 0, E)'''"
      ],
      "metadata": {
        "colab": {
          "base_uri": "https://localhost:8080/",
          "height": 35
        },
        "id": "XFlEptQ4YVsu",
        "outputId": "773da755-969d-4ebd-d10b-075e9ec78afa"
      },
      "execution_count": null,
      "outputs": [
        {
          "output_type": "execute_result",
          "data": {
            "text/plain": [
              "'integr.quad(radium_223_ionization_energy_loss_in_air_f, 0, E)'"
            ],
            "application/vnd.google.colaboratory.intrinsic+json": {
              "type": "string"
            }
          },
          "metadata": {},
          "execution_count": 11
        }
      ]
    },
    {
      "cell_type": "markdown",
      "source": [
        "\n",
        "\n",
        "1.   Опишем движение частицы через кинетическую энергию\n",
        "2.   Запишем изменение Энергии на ионизацию среды, а следовательно изменение скорости\n",
        "3. Определим шаг изменения\n",
        "4. Перепишем функцию которая учитывает уменьшение скорости(энергии) от координаты (пути), а возвращает массив с результатами итерирования\n",
        "5. Построим график\n",
        "6. Проведем интегрирование от 0 до Е  (посмотрим что будет)\n",
        "\n",
        "\n",
        "\n",
        "\n",
        "\n"
      ],
      "metadata": {
        "id": "Cn29TZw7cFld"
      }
    },
    {
      "cell_type": "code",
      "source": [
        "Kf_to_J = 1.602176634*10**(-19) #коэфициент перевода в эв в джоули"
      ],
      "metadata": {
        "id": "wWRZiQlbK_3d"
      },
      "execution_count": null,
      "outputs": []
    },
    {
      "cell_type": "code",
      "source": [
        "Mkg = 223.0185*1.66053906660*10**(-27) # кг перевод массы 223 радия в кг"
      ],
      "metadata": {
        "id": "ODUZXo6-dy4T"
      },
      "execution_count": null,
      "outputs": []
    },
    {
      "cell_type": "code",
      "source": [
        "Ej = E * Kf_to_J\n",
        "Ej"
      ],
      "metadata": {
        "colab": {
          "base_uri": "https://localhost:8080/"
        },
        "id": "XIX2KIkJf-68",
        "outputId": "edce3a7a-d3ab-4ad8-e3d5-4f32fa82fd50"
      },
      "execution_count": null,
      "outputs": [
        {
          "output_type": "execute_result",
          "data": {
            "text/plain": [
              "1.602176634e-14"
            ]
          },
          "metadata": {},
          "execution_count": 14
        }
      ]
    },
    {
      "cell_type": "code",
      "source": [
        "def V(E, Mkg = 223.0185*1.66053906660*10**(-27)):\n",
        "  Kf_to_J = 1.602176634*10**(-19)\n",
        "  Ej = E*Kf_to_J\n",
        "  V0 = ((2*Ej)/Mkg)**0.5 # m/c\n",
        "  return V0"
      ],
      "metadata": {
        "id": "ngbFRG8WgIGE"
      },
      "execution_count": null,
      "outputs": []
    },
    {
      "cell_type": "code",
      "source": [
        "  V0 = V(Ej)\n",
        "  B = V0/c\n",
        "  B\n",
        "  m.log((B**2)/(Z_air*(1-B**2)))"
      ],
      "metadata": {
        "colab": {
          "base_uri": "https://localhost:8080/"
        },
        "id": "0v7caavl3ZQB",
        "outputId": "5e9ab7f7-3889-4348-b64b-9d4e3ebbab72"
      },
      "execution_count": null,
      "outputs": [
        {
          "output_type": "execute_result",
          "data": {
            "text/plain": [
              "-59.11911256769114"
            ]
          },
          "metadata": {},
          "execution_count": 16
        }
      ]
    },
    {
      "cell_type": "markdown",
      "source": [
        "Скорость сходится в порядках"
      ],
      "metadata": {
        "id": "2ijucfAvrxtb"
      }
    },
    {
      "cell_type": "code",
      "source": [
        "answer=[]\n",
        "dEdx=[]\n",
        "speed = []\n",
        "Etest = 100000\n",
        "while Etest > 25:\n",
        "    E0 = Etest\n",
        "    V0 = V(E0)\n",
        "    B = V0/c\n",
        "    Vklad_sred=((Z_air*(Z**2)*air_density)/(A_air*(B**2)))\n",
        "    Vklad_chast = (11.2+m.log((B**2)/(Z_air*(1-B**2)))-B**2)\n",
        "    dE = 3.1*10**(5)*Vklad_sred*Vklad_chast\n",
        "    dEdx.append(dE)\n",
        "    Etest = Etest + dE\n",
        "    answer.append(Etest)\n",
        "    speed.append(V0)"
      ],
      "metadata": {
        "id": "fGSu27SAhGyd"
      },
      "execution_count": null,
      "outputs": []
    },
    {
      "cell_type": "code",
      "source": [
        "res = sns.lineplot(x=answer, y = dEdx)\n",
        "res.set(xscale='log')\n"
      ],
      "metadata": {
        "colab": {
          "base_uri": "https://localhost:8080/",
          "height": 451
        },
        "id": "w4KNGI1kA5iE",
        "outputId": "363cd86d-e552-423d-dcb9-b6f96e27c4f9"
      },
      "execution_count": 49,
      "outputs": [
        {
          "output_type": "execute_result",
          "data": {
            "text/plain": [
              "[None]"
            ]
          },
          "metadata": {},
          "execution_count": 49
        },
        {
          "output_type": "display_data",
          "data": {
            "text/plain": [
              "<Figure size 640x480 with 1 Axes>"
            ],
            "image/png": "[encoded data removed]"
          },
          "metadata": {}
        }
      ]
    },
    {
      "cell_type": "code",
      "source": [
        "pip install simpy\n"
      ],
      "metadata": {
        "id": "KhQrX9cbBgMW",
        "outputId": "3ec45d86-3eca-458d-f34b-95a54a1500f8",
        "colab": {
          "base_uri": "https://localhost:8080/"
        }
      },
      "execution_count": null,
      "outputs": [
        {
          "output_type": "stream",
          "name": "stdout",
          "text": [
            "Collecting simpy\n",
            "  Downloading simpy-4.1.1-py3-none-any.whl (27 kB)\n",
            "Installing collected packages: simpy\n",
            "Successfully installed simpy-4.1.1\n"
          ]
        }
      ]
    },
    {
      "cell_type": "code",
      "source": [
        "import simpy as simp"
      ],
      "metadata": {
        "id": "xWhOHc0ujOP-"
      },
      "execution_count": null,
      "outputs": []
    },
    {
      "cell_type": "code",
      "source": [
        "from sympy import *\n",
        "init_printing(use_unicode=False, wrap_line=False)\n",
        "EE = Symbol('EE,')\n",
        "diE = Symbol('diE,')\n",
        "integrate(EE/(diE), (EE, 0, 100000))\n",
        "\n",
        "\n",
        "\n"
      ],
      "metadata": {
        "id": "j92H0TkcjgxK",
        "outputId": "dfefcc85-d9c0-4d54-f2f7-6d255e9dc562",
        "colab": {
          "base_uri": "https://localhost:8080/",
          "height": 54
        }
      },
      "execution_count": null,
      "outputs": [
        {
          "output_type": "execute_result",
          "data": {
            "text/plain": [
              "5000000000\n",
              "----------\n",
              "   diE,   "
            ],
            "text/latex": "$\\displaystyle \\frac{5000000000}{diE,}$"
          },
          "metadata": {},
          "execution_count": 21
        }
      ]
    },
    {
      "cell_type": "code",
      "source": [
        "sss=0\n",
        "for i in dEdx:\n",
        "  sss=i+sss"
      ],
      "metadata": {
        "id": "gHACm0DvmLDP"
      },
      "execution_count": null,
      "outputs": []
    },
    {
      "cell_type": "code",
      "source": [
        "sss"
      ],
      "metadata": {
        "id": "GcT4iQlmty-q",
        "outputId": "f22ca52c-0467-4241-c0c3-c3df7c603790",
        "colab": {
          "base_uri": "https://localhost:8080/",
          "height": 37
        }
      },
      "execution_count": null,
      "outputs": [
        {
          "output_type": "execute_result",
          "data": {
            "text/plain": [
              "-100193.50541805958"
            ],
            "text/latex": "$\\displaystyle -100193.50541806$"
          },
          "metadata": {},
          "execution_count": 23
        }
      ]
    },
    {
      "cell_type": "code",
      "source": [
        "5000000000/sss"
      ],
      "metadata": {
        "id": "IWimKBxjug_V",
        "outputId": "31408bc7-31a1-4852-8166-3a4ede4da986",
        "colab": {
          "base_uri": "https://localhost:8080/",
          "height": 37
        }
      },
      "execution_count": null,
      "outputs": [
        {
          "output_type": "execute_result",
          "data": {
            "text/plain": [
              "-49903.43415111979"
            ],
            "text/latex": "$\\displaystyle -49903.4341511198$"
          },
          "metadata": {},
          "execution_count": 24
        }
      ]
    },
    {
      "cell_type": "code",
      "source": [
        "BB=diff(EE, EE)"
      ],
      "metadata": {
        "id": "ZbNulg7yunyx"
      },
      "execution_count": null,
      "outputs": []
    },
    {
      "cell_type": "code",
      "source": [
        "dX = Symbol('dX')\n",
        "AA=diff(dX, dX)"
      ],
      "metadata": {
        "id": "Dyn0aNoYATli"
      },
      "execution_count": null,
      "outputs": []
    },
    {
      "cell_type": "code",
      "source": [
        "BB/AA"
      ],
      "metadata": {
        "id": "svrIY2ExAnAk",
        "outputId": "5b045171-c629-4246-86c1-9e54ad4fc545",
        "colab": {
          "base_uri": "https://localhost:8080/",
          "height": 37
        }
      },
      "execution_count": null,
      "outputs": [
        {
          "output_type": "execute_result",
          "data": {
            "text/plain": [
              "1"
            ],
            "text/latex": "$\\displaystyle 1$"
          },
          "metadata": {},
          "execution_count": 28
        }
      ]
    },
    {
      "cell_type": "code",
      "source": [
        "integrate(EE/(diff(EE, EE)/diff(dX, dX)), (EE))"
      ],
      "metadata": {
        "id": "-8s3BxpfApH8",
        "outputId": "ae624315-c095-4b9f-b321-98bcdf918960",
        "colab": {
          "base_uri": "https://localhost:8080/",
          "height": 54
        }
      },
      "execution_count": null,
      "outputs": [
        {
          "output_type": "execute_result",
          "data": {
            "text/plain": [
              "   2\n",
              "EE, \n",
              "----\n",
              " 2  "
            ],
            "text/latex": "$\\displaystyle \\frac{EE,^{2}}{2}$"
          },
          "metadata": {},
          "execution_count": 45
        }
      ]
    },
    {
      "cell_type": "code",
      "source": [
        "vv = V(1000)"
      ],
      "metadata": {
        "id": "LtrgyBNBA4QE"
      },
      "execution_count": null,
      "outputs": []
    },
    {
      "cell_type": "code",
      "source": [
        "vv*100\n"
      ],
      "metadata": {
        "id": "NbGbBaTFEMhq",
        "outputId": "fed762a3-da87-4a45-b1a3-54c161b098db",
        "colab": {
          "base_uri": "https://localhost:8080/",
          "height": 37
        }
      },
      "execution_count": null,
      "outputs": [
        {
          "output_type": "execute_result",
          "data": {
            "text/plain": [
              "2941542.9957258473"
            ],
            "text/latex": "$\\displaystyle 2941542.99572585$"
          },
          "metadata": {},
          "execution_count": 37
        }
      ]
    },
    {
      "cell_type": "code",
      "source": [],
      "metadata": {
        "id": "exHfhZgqENQN"
      },
      "execution_count": 42,
      "outputs": []
    },
    {
      "cell_type": "code",
      "source": [
        "iznE = pd.DataFrame(answer)"
      ],
      "metadata": {
        "id": "6-05BiQJLHuP"
      },
      "execution_count": 38,
      "outputs": []
    },
    {
      "cell_type": "code",
      "source": [
        "iznE.shape"
      ],
      "metadata": {
        "id": "AI6ZPREpLd2n",
        "outputId": "1f8e31c5-35c4-4183-f68f-5e20ce400e40",
        "colab": {
          "base_uri": "https://localhost:8080/",
          "height": 37
        }
      },
      "execution_count": 42,
      "outputs": [
        {
          "output_type": "execute_result",
          "data": {
            "text/plain": [
              "(259915, 1)"
            ],
            "text/latex": "$\\displaystyle \\left( 259915, \\  1\\right)$"
          },
          "metadata": {},
          "execution_count": 42
        }
      ]
    },
    {
      "cell_type": "code",
      "source": [
        "DEDX = pd.DataFrame(dEdx)\n",
        "DEDX"
      ],
      "metadata": {
        "id": "okJlUkGhLfwS",
        "outputId": "39e64ecf-f1b3-4260-8bb3-da5156554f65",
        "colab": {
          "base_uri": "https://localhost:8080/",
          "height": 423
        }
      },
      "execution_count": 52,
      "outputs": [
        {
          "output_type": "execute_result",
          "data": {
            "text/plain": [
              "                 0\n",
              "0        -0.175085\n",
              "1        -0.175086\n",
              "2        -0.175086\n",
              "3        -0.175087\n",
              "4        -0.175087\n",
              "...            ...\n",
              "259910  -70.318861\n",
              "259911  -82.241495\n",
              "259912 -102.126642\n",
              "259913 -144.319181\n",
              "259914 -324.583353\n",
              "\n",
              "[259915 rows x 1 columns]"
            ],
            "text/html": [
              "\n",
              "  <div id=\"df-eafb3581-2ba9-4dd4-b9b0-aeb7dd98be24\" class=\"colab-df-container\">\n",
              "    <div>\n",
              "<style scoped>\n",
              "    .dataframe tbody tr th:only-of-type {\n",
              "        vertical-align: middle;\n",
              "    }\n",
              "\n",
              "    .dataframe tbody tr th {\n",
              "        vertical-align: top;\n",
              "    }\n",
              "\n",
              "    .dataframe thead th {\n",
              "        text-align: right;\n",
              "    }\n",
              "</style>\n",
              "<table border=\"1\" class=\"dataframe\">\n",
              "  <thead>\n",
              "    <tr style=\"text-align: right;\">\n",
              "      <th></th>\n",
              "      <th>0</th>\n",
              "    </tr>\n",
              "  </thead>\n",
              "  <tbody>\n",
              "    <tr>\n",
              "      <th>0</th>\n",
              "      <td>-0.175085</td>\n",
              "    </tr>\n",
              "    <tr>\n",
              "      <th>1</th>\n",
              "      <td>-0.175086</td>\n",
              "    </tr>\n",
              "    <tr>\n",
              "      <th>2</th>\n",
              "      <td>-0.175086</td>\n",
              "    </tr>\n",
              "    <tr>\n",
              "      <th>3</th>\n",
              "      <td>-0.175087</td>\n",
              "    </tr>\n",
              "    <tr>\n",
              "      <th>4</th>\n",
              "      <td>-0.175087</td>\n",
              "    </tr>\n",
              "    <tr>\n",
              "      <th>...</th>\n",
              "      <td>...</td>\n",
              "    </tr>\n",
              "    <tr>\n",
              "      <th>259910</th>\n",
              "      <td>-70.318861</td>\n",
              "    </tr>\n",
              "    <tr>\n",
              "      <th>259911</th>\n",
              "      <td>-82.241495</td>\n",
              "    </tr>\n",
              "    <tr>\n",
              "      <th>259912</th>\n",
              "      <td>-102.126642</td>\n",
              "    </tr>\n",
              "    <tr>\n",
              "      <th>259913</th>\n",
              "      <td>-144.319181</td>\n",
              "    </tr>\n",
              "    <tr>\n",
              "      <th>259914</th>\n",
              "      <td>-324.583353</td>\n",
              "    </tr>\n",
              "  </tbody>\n",
              "</table>\n",
              "<p>259915 rows × 1 columns</p>\n",
              "</div>\n",
              "    <div class=\"colab-df-buttons\">\n",
              "\n",
              "  <div class=\"colab-df-container\">\n",
              "    <button class=\"colab-df-convert\" onclick=\"convertToInteractive('df-eafb3581-2ba9-4dd4-b9b0-aeb7dd98be24')\"\n",
              "            title=\"Convert this dataframe to an interactive table.\"\n",
              "            style=\"display:none;\">\n",
              "\n",
              "  <svg xmlns=\"http://www.w3.org/2000/svg\" height=\"24px\" viewBox=\"0 -960 960 960\">\n",
              "    <path d=\"M120-120v-720h720v720H120Zm60-500h600v-160H180v160Zm220 220h160v-160H400v160Zm0 220h160v-160H400v160ZM180-400h160v-160H180v160Zm440 0h160v-160H620v160ZM180-180h160v-160H180v160Zm440 0h160v-160H620v160Z\"/>\n",
              "  </svg>\n",
              "    </button>\n",
              "\n",
              "  <style>\n",
              "    .colab-df-container {\n",
              "      display:flex;\n",
              "      gap: 12px;\n",
              "    }\n",
              "\n",
              "    .colab-df-convert {\n",
              "      background-color: #E8F0FE;\n",
              "      border: none;\n",
              "      border-radius: 50%;\n",
              "      cursor: pointer;\n",
              "      display: none;\n",
              "      fill: #1967D2;\n",
              "      height: 32px;\n",
              "      padding: 0 0 0 0;\n",
              "      width: 32px;\n",
              "    }\n",
              "\n",
              "    .colab-df-convert:hover {\n",
              "      background-color: #E2EBFA;\n",
              "      box-shadow: 0px 1px 2px rgba(60, 64, 67, 0.3), 0px 1px 3px 1px rgba(60, 64, 67, 0.15);\n",
              "      fill: #174EA6;\n",
              "    }\n",
              "\n",
              "    .colab-df-buttons div {\n",
              "      margin-bottom: 4px;\n",
              "    }\n",
              "\n",
              "    [theme=dark] .colab-df-convert {\n",
              "      background-color: #3B4455;\n",
              "      fill: #D2E3FC;\n",
              "    }\n",
              "\n",
              "    [theme=dark] .colab-df-convert:hover {\n",
              "      background-color: #434B5C;\n",
              "      box-shadow: 0px 1px 3px 1px rgba(0, 0, 0, 0.15);\n",
              "      filter: drop-shadow(0px 1px 2px rgba(0, 0, 0, 0.3));\n",
              "      fill: #FFFFFF;\n",
              "    }\n",
              "  </style>\n",
              "\n",
              "    <script>\n",
              "      const buttonEl =\n",
              "        document.querySelector('#df-eafb3581-2ba9-4dd4-b9b0-aeb7dd98be24 button.colab-df-convert');\n",
              "      buttonEl.style.display =\n",
              "        google.colab.kernel.accessAllowed ? 'block' : 'none';\n",
              "\n",
              "      async function convertToInteractive(key) {\n",
              "        const element = document.querySelector('#df-eafb3581-2ba9-4dd4-b9b0-aeb7dd98be24');\n",
              "        const dataTable =\n",
              "          await google.colab.kernel.invokeFunction('convertToInteractive',\n",
              "                                                    [key], {});\n",
              "        if (!dataTable) return;\n",
              "\n",
              "        const docLinkHtml = 'Like what you see? Visit the ' +\n",
              "          '<a target=\"_blank\" href=https://colab.research.google.com/notebooks/data_table.ipynb>data table notebook</a>'\n",
              "          + ' to learn more about interactive tables.';\n",
              "        element.innerHTML = '';\n",
              "        dataTable['output_type'] = 'display_data';\n",
              "        await google.colab.output.renderOutput(dataTable, element);\n",
              "        const docLink = document.createElement('div');\n",
              "        docLink.innerHTML = docLinkHtml;\n",
              "        element.appendChild(docLink);\n",
              "      }\n",
              "    </script>\n",
              "  </div>\n",
              "\n",
              "\n",
              "<div id=\"df-48d95553-937c-4da1-aa83-16b0afe83a33\">\n",
              "  <button class=\"colab-df-quickchart\" onclick=\"quickchart('df-48d95553-937c-4da1-aa83-16b0afe83a33')\"\n",
              "            title=\"Suggest charts\"\n",
              "            style=\"display:none;\">\n",
              "\n",
              "<svg xmlns=\"http://www.w3.org/2000/svg\" height=\"24px\"viewBox=\"0 0 24 24\"\n",
              "     width=\"24px\">\n",
              "    <g>\n",
              "        <path d=\"M19 3H5c-1.1 0-2 .9-2 2v14c0 1.1.9 2 2 2h14c1.1 0 2-.9 2-2V5c0-1.1-.9-2-2-2zM9 17H7v-7h2v7zm4 0h-2V7h2v10zm4 0h-2v-4h2v4z\"/>\n",
              "    </g>\n",
              "</svg>\n",
              "  </button>\n",
              "\n",
              "<style>\n",
              "  .colab-df-quickchart {\n",
              "      --bg-color: #E8F0FE;\n",
              "      --fill-color: #1967D2;\n",
              "      --hover-bg-color: #E2EBFA;\n",
              "      --hover-fill-color: #174EA6;\n",
              "      --disabled-fill-color: #AAA;\n",
              "      --disabled-bg-color: #DDD;\n",
              "  }\n",
              "\n",
              "  [theme=dark] .colab-df-quickchart {\n",
              "      --bg-color: #3B4455;\n",
              "      --fill-color: #D2E3FC;\n",
              "      --hover-bg-color: #434B5C;\n",
              "      --hover-fill-color: #FFFFFF;\n",
              "      --disabled-bg-color: #3B4455;\n",
              "      --disabled-fill-color: #666;\n",
              "  }\n",
              "\n",
              "  .colab-df-quickchart {\n",
              "    background-color: var(--bg-color);\n",
              "    border: none;\n",
              "    border-radius: 50%;\n",
              "    cursor: pointer;\n",
              "    display: none;\n",
              "    fill: var(--fill-color);\n",
              "    height: 32px;\n",
              "    padding: 0;\n",
              "    width: 32px;\n",
              "  }\n",
              "\n",
              "  .colab-df-quickchart:hover {\n",
              "    background-color: var(--hover-bg-color);\n",
              "    box-shadow: 0 1px 2px rgba(60, 64, 67, 0.3), 0 1px 3px 1px rgba(60, 64, 67, 0.15);\n",
              "    fill: var(--button-hover-fill-color);\n",
              "  }\n",
              "\n",
              "  .colab-df-quickchart-complete:disabled,\n",
              "  .colab-df-quickchart-complete:disabled:hover {\n",
              "    background-color: var(--disabled-bg-color);\n",
              "    fill: var(--disabled-fill-color);\n",
              "    box-shadow: none;\n",
              "  }\n",
              "\n",
              "  .colab-df-spinner {\n",
              "    border: 2px solid var(--fill-color);\n",
              "    border-color: transparent;\n",
              "    border-bottom-color: var(--fill-color);\n",
              "    animation:\n",
              "      spin 1s steps(1) infinite;\n",
              "  }\n",
              "\n",
              "  @keyframes spin {\n",
              "    0% {\n",
              "      border-color: transparent;\n",
              "      border-bottom-color: var(--fill-color);\n",
              "      border-left-color: var(--fill-color);\n",
              "    }\n",
              "    20% {\n",
              "      border-color: transparent;\n",
              "      border-left-color: var(--fill-color);\n",
              "      border-top-color: var(--fill-color);\n",
              "    }\n",
              "    30% {\n",
              "      border-color: transparent;\n",
              "      border-left-color: var(--fill-color);\n",
              "      border-top-color: var(--fill-color);\n",
              "      border-right-color: var(--fill-color);\n",
              "    }\n",
              "    40% {\n",
              "      border-color: transparent;\n",
              "      border-right-color: var(--fill-color);\n",
              "      border-top-color: var(--fill-color);\n",
              "    }\n",
              "    60% {\n",
              "      border-color: transparent;\n",
              "      border-right-color: var(--fill-color);\n",
              "    }\n",
              "    80% {\n",
              "      border-color: transparent;\n",
              "      border-right-color: var(--fill-color);\n",
              "      border-bottom-color: var(--fill-color);\n",
              "    }\n",
              "    90% {\n",
              "      border-color: transparent;\n",
              "      border-bottom-color: var(--fill-color);\n",
              "    }\n",
              "  }\n",
              "</style>\n",
              "\n",
              "  <script>\n",
              "    async function quickchart(key) {\n",
              "      const quickchartButtonEl =\n",
              "        document.querySelector('#' + key + ' button');\n",
              "      quickchartButtonEl.disabled = true;  // To prevent multiple clicks.\n",
              "      quickchartButtonEl.classList.add('colab-df-spinner');\n",
              "      try {\n",
              "        const charts = await google.colab.kernel.invokeFunction(\n",
              "            'suggestCharts', [key], {});\n",
              "      } catch (error) {\n",
              "        console.error('Error during call to suggestCharts:', error);\n",
              "      }\n",
              "      quickchartButtonEl.classList.remove('colab-df-spinner');\n",
              "      quickchartButtonEl.classList.add('colab-df-quickchart-complete');\n",
              "    }\n",
              "    (() => {\n",
              "      let quickchartButtonEl =\n",
              "        document.querySelector('#df-48d95553-937c-4da1-aa83-16b0afe83a33 button');\n",
              "      quickchartButtonEl.style.display =\n",
              "        google.colab.kernel.accessAllowed ? 'block' : 'none';\n",
              "    })();\n",
              "  </script>\n",
              "</div>\n",
              "    </div>\n",
              "  </div>\n"
            ],
            "application/vnd.google.colaboratory.intrinsic+json": {
              "type": "dataframe",
              "variable_name": "DEDX"
            }
          },
          "metadata": {},
          "execution_count": 52
        }
      ]
    },
    {
      "cell_type": "code",
      "source": [
        "Speeed = pd.DataFrame(speed)"
      ],
      "metadata": {
        "id": "LAxzLJe-Lr6g"
      },
      "execution_count": 43,
      "outputs": []
    },
    {
      "cell_type": "code",
      "source": [
        "Speeed"
      ],
      "metadata": {
        "id": "lcHCFCHqOH4D",
        "outputId": "2f71a955-82b2-47e7-9536-6b86c195daa5",
        "colab": {
          "base_uri": "https://localhost:8080/",
          "height": 715
        }
      },
      "execution_count": 44,
      "outputs": [
        {
          "output_type": "execute_result",
          "data": {
            "text/plain": [
              "                    0\n",
              "0       294154.299573\n",
              "1       294154.042062\n",
              "2       294153.784550\n",
              "3       294153.527038\n",
              "4       294153.269525\n",
              "...               ...\n",
              "259910   21416.455471\n",
              "259911   19945.424008\n",
              "259912   18073.711429\n",
              "259913   15436.715288\n",
              "259914   10649.764285\n",
              "\n",
              "[259915 rows x 1 columns]"
            ],
            "text/html": [
              "\n",
              "  <div id=\"df-cf7d69d6-7aa3-48ac-95c6-7e1264b75fdc\" class=\"colab-df-container\">\n",
              "    <div>\n",
              "<style scoped>\n",
              "    .dataframe tbody tr th:only-of-type {\n",
              "        vertical-align: middle;\n",
              "    }\n",
              "\n",
              "    .dataframe tbody tr th {\n",
              "        vertical-align: top;\n",
              "    }\n",
              "\n",
              "    .dataframe thead th {\n",
              "        text-align: right;\n",
              "    }\n",
              "</style>\n",
              "<table border=\"1\" class=\"dataframe\">\n",
              "  <thead>\n",
              "    <tr style=\"text-align: right;\">\n",
              "      <th></th>\n",
              "      <th>0</th>\n",
              "    </tr>\n",
              "  </thead>\n",
              "  <tbody>\n",
              "    <tr>\n",
              "      <th>0</th>\n",
              "      <td>294154.299573</td>\n",
              "    </tr>\n",
              "    <tr>\n",
              "      <th>1</th>\n",
              "      <td>294154.042062</td>\n",
              "    </tr>\n",
              "    <tr>\n",
              "      <th>2</th>\n",
              "      <td>294153.784550</td>\n",
              "    </tr>\n",
              "    <tr>\n",
              "      <th>3</th>\n",
              "      <td>294153.527038</td>\n",
              "    </tr>\n",
              "    <tr>\n",
              "      <th>4</th>\n",
              "      <td>294153.269525</td>\n",
              "    </tr>\n",
              "    <tr>\n",
              "      <th>...</th>\n",
              "      <td>...</td>\n",
              "    </tr>\n",
              "    <tr>\n",
              "      <th>259910</th>\n",
              "      <td>21416.455471</td>\n",
              "    </tr>\n",
              "    <tr>\n",
              "      <th>259911</th>\n",
              "      <td>19945.424008</td>\n",
              "    </tr>\n",
              "    <tr>\n",
              "      <th>259912</th>\n",
              "      <td>18073.711429</td>\n",
              "    </tr>\n",
              "    <tr>\n",
              "      <th>259913</th>\n",
              "      <td>15436.715288</td>\n",
              "    </tr>\n",
              "    <tr>\n",
              "      <th>259914</th>\n",
              "      <td>10649.764285</td>\n",
              "    </tr>\n",
              "  </tbody>\n",
              "</table>\n",
              "<p>259915 rows × 1 columns</p>\n",
              "</div>\n",
              "    <div class=\"colab-df-buttons\">\n",
              "\n",
              "  <div class=\"colab-df-container\">\n",
              "    <button class=\"colab-df-convert\" onclick=\"convertToInteractive('df-cf7d69d6-7aa3-48ac-95c6-7e1264b75fdc')\"\n",
              "            title=\"Convert this dataframe to an interactive table.\"\n",
              "            style=\"display:none;\">\n",
              "\n",
              "  <svg xmlns=\"http://www.w3.org/2000/svg\" height=\"24px\" viewBox=\"0 -960 960 960\">\n",
              "    <path d=\"M120-120v-720h720v720H120Zm60-500h600v-160H180v160Zm220 220h160v-160H400v160Zm0 220h160v-160H400v160ZM180-400h160v-160H180v160Zm440 0h160v-160H620v160ZM180-180h160v-160H180v160Zm440 0h160v-160H620v160Z\"/>\n",
              "  </svg>\n",
              "    </button>\n",
              "\n",
              "  <style>\n",
              "    .colab-df-container {\n",
              "      display:flex;\n",
              "      gap: 12px;\n",
              "    }\n",
              "\n",
              "    .colab-df-convert {\n",
              "      background-color: #E8F0FE;\n",
              "      border: none;\n",
              "      border-radius: 50%;\n",
              "      cursor: pointer;\n",
              "      display: none;\n",
              "      fill: #1967D2;\n",
              "      height: 32px;\n",
              "      padding: 0 0 0 0;\n",
              "      width: 32px;\n",
              "    }\n",
              "\n",
              "    .colab-df-convert:hover {\n",
              "      background-color: #E2EBFA;\n",
              "      box-shadow: 0px 1px 2px rgba(60, 64, 67, 0.3), 0px 1px 3px 1px rgba(60, 64, 67, 0.15);\n",
              "      fill: #174EA6;\n",
              "    }\n",
              "\n",
              "    .colab-df-buttons div {\n",
              "      margin-bottom: 4px;\n",
              "    }\n",
              "\n",
              "    [theme=dark] .colab-df-convert {\n",
              "      background-color: #3B4455;\n",
              "      fill: #D2E3FC;\n",
              "    }\n",
              "\n",
              "    [theme=dark] .colab-df-convert:hover {\n",
              "      background-color: #434B5C;\n",
              "      box-shadow: 0px 1px 3px 1px rgba(0, 0, 0, 0.15);\n",
              "      filter: drop-shadow(0px 1px 2px rgba(0, 0, 0, 0.3));\n",
              "      fill: #FFFFFF;\n",
              "    }\n",
              "  </style>\n",
              "\n",
              "    <script>\n",
              "      const buttonEl =\n",
              "        document.querySelector('#df-cf7d69d6-7aa3-48ac-95c6-7e1264b75fdc button.colab-df-convert');\n",
              "      buttonEl.style.display =\n",
              "        google.colab.kernel.accessAllowed ? 'block' : 'none';\n",
              "\n",
              "      async function convertToInteractive(key) {\n",
              "        const element = document.querySelector('#df-cf7d69d6-7aa3-48ac-95c6-7e1264b75fdc');\n",
              "        const dataTable =\n",
              "          await google.colab.kernel.invokeFunction('convertToInteractive',\n",
              "                                                    [key], {});\n",
              "        if (!dataTable) return;\n",
              "\n",
              "        const docLinkHtml = 'Like what you see? Visit the ' +\n",
              "          '<a target=\"_blank\" href=https://colab.research.google.com/notebooks/data_table.ipynb>data table notebook</a>'\n",
              "          + ' to learn more about interactive tables.';\n",
              "        element.innerHTML = '';\n",
              "        dataTable['output_type'] = 'display_data';\n",
              "        await google.colab.output.renderOutput(dataTable, element);\n",
              "        const docLink = document.createElement('div');\n",
              "        docLink.innerHTML = docLinkHtml;\n",
              "        element.appendChild(docLink);\n",
              "      }\n",
              "    </script>\n",
              "  </div>\n",
              "\n",
              "\n",
              "<div id=\"df-26c76513-bcfd-4a8c-a716-623b8e6c39c5\">\n",
              "  <button class=\"colab-df-quickchart\" onclick=\"quickchart('df-26c76513-bcfd-4a8c-a716-623b8e6c39c5')\"\n",
              "            title=\"Suggest charts\"\n",
              "            style=\"display:none;\">\n",
              "\n",
              "<svg xmlns=\"http://www.w3.org/2000/svg\" height=\"24px\"viewBox=\"0 0 24 24\"\n",
              "     width=\"24px\">\n",
              "    <g>\n",
              "        <path d=\"M19 3H5c-1.1 0-2 .9-2 2v14c0 1.1.9 2 2 2h14c1.1 0 2-.9 2-2V5c0-1.1-.9-2-2-2zM9 17H7v-7h2v7zm4 0h-2V7h2v10zm4 0h-2v-4h2v4z\"/>\n",
              "    </g>\n",
              "</svg>\n",
              "  </button>\n",
              "\n",
              "<style>\n",
              "  .colab-df-quickchart {\n",
              "      --bg-color: #E8F0FE;\n",
              "      --fill-color: #1967D2;\n",
              "      --hover-bg-color: #E2EBFA;\n",
              "      --hover-fill-color: #174EA6;\n",
              "      --disabled-fill-color: #AAA;\n",
              "      --disabled-bg-color: #DDD;\n",
              "  }\n",
              "\n",
              "  [theme=dark] .colab-df-quickchart {\n",
              "      --bg-color: #3B4455;\n",
              "      --fill-color: #D2E3FC;\n",
              "      --hover-bg-color: #434B5C;\n",
              "      --hover-fill-color: #FFFFFF;\n",
              "      --disabled-bg-color: #3B4455;\n",
              "      --disabled-fill-color: #666;\n",
              "  }\n",
              "\n",
              "  .colab-df-quickchart {\n",
              "    background-color: var(--bg-color);\n",
              "    border: none;\n",
              "    border-radius: 50%;\n",
              "    cursor: pointer;\n",
              "    display: none;\n",
              "    fill: var(--fill-color);\n",
              "    height: 32px;\n",
              "    padding: 0;\n",
              "    width: 32px;\n",
              "  }\n",
              "\n",
              "  .colab-df-quickchart:hover {\n",
              "    background-color: var(--hover-bg-color);\n",
              "    box-shadow: 0 1px 2px rgba(60, 64, 67, 0.3), 0 1px 3px 1px rgba(60, 64, 67, 0.15);\n",
              "    fill: var(--button-hover-fill-color);\n",
              "  }\n",
              "\n",
              "  .colab-df-quickchart-complete:disabled,\n",
              "  .colab-df-quickchart-complete:disabled:hover {\n",
              "    background-color: var(--disabled-bg-color);\n",
              "    fill: var(--disabled-fill-color);\n",
              "    box-shadow: none;\n",
              "  }\n",
              "\n",
              "  .colab-df-spinner {\n",
              "    border: 2px solid var(--fill-color);\n",
              "    border-color: transparent;\n",
              "    border-bottom-color: var(--fill-color);\n",
              "    animation:\n",
              "      spin 1s steps(1) infinite;\n",
              "  }\n",
              "\n",
              "  @keyframes spin {\n",
              "    0% {\n",
              "      border-color: transparent;\n",
              "      border-bottom-color: var(--fill-color);\n",
              "      border-left-color: var(--fill-color);\n",
              "    }\n",
              "    20% {\n",
              "      border-color: transparent;\n",
              "      border-left-color: var(--fill-color);\n",
              "      border-top-color: var(--fill-color);\n",
              "    }\n",
              "    30% {\n",
              "      border-color: transparent;\n",
              "      border-left-color: var(--fill-color);\n",
              "      border-top-color: var(--fill-color);\n",
              "      border-right-color: var(--fill-color);\n",
              "    }\n",
              "    40% {\n",
              "      border-color: transparent;\n",
              "      border-right-color: var(--fill-color);\n",
              "      border-top-color: var(--fill-color);\n",
              "    }\n",
              "    60% {\n",
              "      border-color: transparent;\n",
              "      border-right-color: var(--fill-color);\n",
              "    }\n",
              "    80% {\n",
              "      border-color: transparent;\n",
              "      border-right-color: var(--fill-color);\n",
              "      border-bottom-color: var(--fill-color);\n",
              "    }\n",
              "    90% {\n",
              "      border-color: transparent;\n",
              "      border-bottom-color: var(--fill-color);\n",
              "    }\n",
              "  }\n",
              "</style>\n",
              "\n",
              "  <script>\n",
              "    async function quickchart(key) {\n",
              "      const quickchartButtonEl =\n",
              "        document.querySelector('#' + key + ' button');\n",
              "      quickchartButtonEl.disabled = true;  // To prevent multiple clicks.\n",
              "      quickchartButtonEl.classList.add('colab-df-spinner');\n",
              "      try {\n",
              "        const charts = await google.colab.kernel.invokeFunction(\n",
              "            'suggestCharts', [key], {});\n",
              "      } catch (error) {\n",
              "        console.error('Error during call to suggestCharts:', error);\n",
              "      }\n",
              "      quickchartButtonEl.classList.remove('colab-df-spinner');\n",
              "      quickchartButtonEl.classList.add('colab-df-quickchart-complete');\n",
              "    }\n",
              "    (() => {\n",
              "      let quickchartButtonEl =\n",
              "        document.querySelector('#df-26c76513-bcfd-4a8c-a716-623b8e6c39c5 button');\n",
              "      quickchartButtonEl.style.display =\n",
              "        google.colab.kernel.accessAllowed ? 'block' : 'none';\n",
              "    })();\n",
              "  </script>\n",
              "</div>\n",
              "    </div>\n",
              "  </div>\n"
            ],
            "application/vnd.google.colaboratory.intrinsic+json": {
              "type": "dataframe",
              "variable_name": "Speeed"
            }
          },
          "metadata": {},
          "execution_count": 44
        },
        {
          "output_type": "display_data",
          "data": {
            "text/plain": [
              "<google.colab._quickchart_helpers.SectionTitle at 0x7d351a977fd0>"
            ],
            "text/html": [
              "<h4 class=\"colab-quickchart-section-title\">Distributions</h4>\n",
              "<style>\n",
              "  .colab-quickchart-section-title {\n",
              "      clear: both;\n",
              "  }\n",
              "</style>"
            ]
          },
          "metadata": {}
        },
        {
          "output_type": "display_data",
          "data": {
            "text/plain": [
              "from matplotlib import pyplot as plt\n",
              "Speeed[0].plot(kind='hist', bins=20, title=0)\n",
              "plt.gca().spines[['top', 'right',]].set_visible(False)"
            ],
            "text/html": [
              "      <div class=\"colab-quickchart-chart-with-code\" id=\"chart-d87d08cd-fe49-4568-a1b2-1bad58ca907c\">\n",
              "        <img style=\"width: 180px;\" src=\"data:image/png;base64,iVBORw0KGgoAAAANSUhEUgAAAkMAAAGZCAYAAACKdDVPAAAAOXRFWHRTb2Z0d2FyZQBNYXRwbG90\n",
              "bGliIHZlcnNpb24zLjcuMSwgaHR0cHM6Ly9tYXRwbG90bGliLm9yZy/bCgiHAAAACXBIWXMAAA9h\n",
              "AAAPYQGoP6dpAAAbdUlEQVR4nO3db2yV533/8Y+Didd0MaxOaWjBcVMD3cYfBwZCdBFtp1RJO4Us\n",
              "WVQtWoO7ddBsVRZRaYC6ql0XhUSKWFmlKksfeGqQsrBCmVSUblkXhWRbA/lDaKlCYNQxSyFUZEDX\n",
              "JRTM/XvA4l/c2gyDj4/t6/WSjoTPdY799SXLvHWf2+duqKqqCgBAoS6p9wAAAPUkhgCAookhAKBo\n",
              "YggAKJoYAgCKJoYAgKKJIQCgaGIIACiaGAIAiiaG/teGDRvqPQIAUAdi6H+9/PLL9R4BAKgDMQQA\n",
              "FE0MAQBFE0MAQNHEEABQNDEEABRNDAEARRNDAEDRxBAAUDQxBAAUTQwBAEUTQwBA0cQQAFA0MQQA\n",
              "FE0MAQBFE0MAQNEa6z0AADA6tK3ZVrPP3X3vx2r2uS9WTY8MtbW1ZdasWeno6EhHR0ceeeSRJMm+\n",
              "ffuyZMmSzJw5MwsXLsyePXv6nlOLNQCAwdT8ZbJHHnkku3btyq5du/Lxj388SbJy5cqsWLEiL730\n",
              "UlavXp3Ozs6+x9diDQBgMA1VVVW1+uRtbW3ZunVrOjo6+u47cuRI2tvb89prr6WxsTFVVWXq1Kl5\n",
              "6qmn0tzcPOxr7e3t5zXrqlWrsn79+hrtBACMfqW+TFbzc4Zuv/32VFWVRYsW5d57783BgwczderU\n",
              "NDae/dINDQ1pbW1NT09PJk2aNOxrA8XQyZMnc/LkyX739fb21nIbAIBRqqYvk23fvj27d+/Oc889\n",
              "lyuuuCLLly+v5Zc7b+vWrcukSZP63Xbs2FHvsQCAOqhpDLW2tiZJJk6cmLvuuitPPvlkpk+fnkOH\n",
              "DuX06dNJkqqq0tPTk9bW1pqsDWTt2rU5fvx4v9uiRYtquRUAwChVsxj66U9/mmPHjvV9/PDDD+ea\n",
              "a67JlClTMn/+/GzcuDFJsnnz5kybNi3t7e01WRtIU1NTmpub+90mTJhQq60AAEaxmp1AfeDAgdxy\n",
              "yy3p7e1NVVW5+uqrs2HDhrS1tWXv3r3p7OzM0aNH09zcnK6ursyZMydJarJ2PpxADUDpSj2BuqZ/\n",
              "TTaWiCEASldqDLkcBwBQNDEEABRNDAEARRNDAEDRxBAAUDQxBAAUTQwBAEUTQwBA0cQQAFA0MQQA\n",
              "FE0MAQBFE0MAQNHEEABQNDEEABRNDAEARRNDAEDRxBAAUDQxBAAUTQwBAEUTQwBA0cQQAFA0MQQA\n",
              "FE0MAQBFE0MAQNHEEABQNDEEABRNDAEARRNDAEDRxBAAUDQxBAAUTQwBAEUTQwBA0cQQAFA0MQQA\n",
              "FE0MAQBFE0MAQNHEEABQNDEEABRNDAEARRNDAEDRxBAAUDQxBAAUTQwBAEUTQwBA0cQQAFA0MQQA\n",
              "FK2x3gMAAEPTtmZbvUcYVxwZAgCKJoYAgKKJIQCgaGIIACiaGAIAiiaGAICiiSEAoGhiCAAomhgC\n",
              "AIomhgCAookhAKBoYggAKJoYAgCKJoYAgKKNSAx1dXWloaEhW7duTZIcOXIk119/fWbMmJHZs2dn\n",
              "+/btfY+txRoAwGBqHkPd3d352te+lsWLF/fdt2bNmixevDj79u1LV1dXbrvttpw6dapmawAAg6lp\n",
              "DJ05cyaf+tSn8pWvfCVNTU1992/atCmf/vSnkyQLFy7Mu9/97jzxxBM1W/t5J0+ezIkTJ/rdent7\n",
              "a7ADAMBoV9MYWr9+fT7wgQ9kwYIFffcdPXo0p06dypVXXtl3X1tbW3p6emqyNpB169Zl0qRJ/W47\n",
              "duwYzm8dABgjahZD3//+97N58+b8+Z//ea2+xAVbu3Ztjh8/3u+2aNGieo8FANRBzWLoySefTHd3\n",
              "d2bMmJG2trZ897vfzYoVK7Jp06Y0Njbm8OHDfY/t7u5Oa2trWlpahn1tIE1NTWlubu53mzBhQg12\n",
              "AQAY7WoWQ3fccUcOHTqU7u7udHd3Z/HixXnwwQdzxx135NZbb80DDzyQJNm5c2deeeWVLF26NElq\n",
              "sgYAMJjGenzR++67L5/4xCcyY8aMXHrppdm4cWMmTpxYszUAgME0VFVV1XuI0WDVqlVZv359vccA\n",
              "gP9T25pt9R5hyLrv/Vi9RxiUd6AGAIomhgCAookhAKBoYggAKJoYAgCKJoYAgKKJIQCgaGIIACia\n",
              "GAIAiiaGAICiiSEAoGhiCAAomhgCAIomhgCAookhAKBoYggAKJoYAgCKJoYAgKKJIQCgaGIIACia\n",
              "GAIAiiaGAICiiSEAoGhiCAAomhgCAIrWWO8BAGA8aluzrd4jcJ4cGQIAiiaGAICiiSEAoGhiCAAo\n",
              "mhgCAIomhgCAookhAKBoYggAKJoYAgCKJoYAgKKJIQCgaGIIACiaGAIAiiaGAICiiSEAoGhiCAAo\n",
              "mhgCAIomhgCAookhAKBoYggAKJoYAgCKJoYAgKKJIQCgaGIIACiaGAIAiiaGAICiiSEAoGhiCAAo\n",
              "mhgCAIomhgCAookhAKBoYggAKJoYAgCKJoYAgKLVNIY+8pGPZO7cueno6Mi1116b559/Pkmyb9++\n",
              "LFmyJDNnzszChQuzZ8+evufUYg0AYDA1jaFNmzZl9+7d2bVrV1atWpXOzs4kycqVK7NixYq89NJL\n",
              "Wb16dd/9tVoDABjMkGPoH//xH8/7sZMnT+779/Hjx9PQ0JAjR47kmWeeye///u8nSW655ZYcPHgw\n",
              "+/fvr8kaAMC5DDmGvvSlL2XWrFnZsGFDTpw48X8+/vbbb8/06dPz+c9/Pg899FAOHjyYqVOnprGx\n",
              "MUnS0NCQ1tbW9PT01GRtICdPnsyJEyf63Xp7e4e6FQDAODDkGPrXf/3X/N3f/V2+//3vZ+bMmfnj\n",
              "P/7j/OAHPxj08V//+tdz8ODB3H333Vm9evVFDTtc1q1bl0mTJvW77dixo95jAQB1cEHnDF1zzTX5\n",
              "2te+lm9/+9v51re+lblz5+a6667L9773vUGfs3z58jz++OOZNm1aDh06lNOnTydJqqpKT09PWltb\n",
              "M3369GFfG8jatWtz/PjxfrdFixZdyFYAAGPcBcXQP//zP2fZsmW5+eab8yd/8ic5fPhwVq5cmd/5\n",
              "nd/pe8yxY8fyox/9qO/jrVu3pqWlJVOmTMn8+fOzcePGJMnmzZszbdq0tLe312RtIE1NTWlubu53\n",
              "mzBhwoVsBQAwxjVUVVUN5Qm/+qu/miuuuCJ33nlnbr755n4RccMNN+TRRx9Nkrz88su59dZb8/rr\n",
              "r+eSSy7JO9/5ztx///3p6OjI3r1709nZmaNHj6a5uTldXV2ZM2dOktRk7XysWrUq69evH8pWAMCg\n",
              "2tZsq/cIo0r3vR+r9wiDGnIMPfvss1mwYEGt5qkbMQTAcBJD/Y3mGGoc6hOeffbZvPe978073vGO\n",
              "JMnRo0ezZcuW/NEf/dGwDwcAtSZaGPI5Q1/96lf7QihJWlpa8tWvfnVYhwIAGClDjqGBXlXzHj0A\n",
              "wFg15BiaOnVqNm3a1PfxI488kqlTpw7rUAAAI2XI5wx9+ctfzrJly/Jnf/ZnSZLLLrss//AP/zDs\n",
              "gwEAjIQhx9D73//+/OAHP8jevXuTJLNmzfIePQDAmDXkGErOXvtr8uTJOX36dF555ZUkGfTdngEA\n",
              "RrMhx9Df/u3f5s4778zEiRNzySVnTzl682r0AABjzZBj6C//8i+zc+fOzJo1qxbzAACMqCH/NdkV\n",
              "V1whhACAcWPIMXTTTTfly1/+co4cOZITJ0703QAAxqIhv0z2uc99LsnZa3k1NDSkqqo0NDR440UA\n",
              "YEwacgydOXOmFnMAANTFkF8mS85erPWhhx5Kkhw7diyHDh0a1qEAAEbKBV2o9Q/+4A/yxS9+McnZ\n",
              "q9bfdtttwz0XAMCIGHIMPfjgg/nud7+b5ubmJMn73ve+/PjHPx72wQAARsKQY6ipqSlve9vb+t3X\n",
              "2HhBb2QNAFB3Q46hd77znXnppZfS0NCQ5Ow7UrsUBwAwVl3QVet/7/d+Ly+++GKmT5+e5ubmfOtb\n",
              "36rFbAAANTfkGGpvb8/TTz+dvXv3pqoqV60HAMa0IcdQT09PkuTtb397krhqPQAwpg05hhYsWND3\n",
              "ztNvvPFG/ud//ictLS2uWg8AjElDjqGf/zP6LVu25IUXXhi2gQAARtIFvQP1W918883Ztm3bcMwC\n",
              "ADDihnxk6K1XqO/t7c3TTz/tqvUAwJg15BiaPHly3zlDEyZMyIwZM/LXf/3XtZgNAKDmXLUeACja\n",
              "RZ8zBAAwlg35yNAll1zSdymOt6qqKg0NDent7R2WwQAARsKQY+hLX/pSXn/99dxxxx1JkgceeCBv\n",
              "e9vbctdddw33bAAANTfkGPrmN7+ZZ599tu/ju+++OwsWLMjnPve5YR0MAGAkDPmcoZ/85Cf93m36\n",
              "yJEj+clPfjKsQwEAjJQhHxn67Gc/m3nz5uWjH/1okuTb3/52vvjFLw73XAAAI2LIMbRy5cp84AMf\n",
              "yOOPP54kWbVqVX7913992AcDABgJQ46hJGlpacmcOXPywQ9+MKdPn87PfvazXHrppcM9GwBAzQ35\n",
              "nKFvfOMbWbx4cT75yU8mSfbs2ZObbrppuOcCABgRQ46hdevW5bnnnsvkyZOTJPPmzcvLL7883HMB\n",
              "AIyIIb9MNmHChLS0tPS7z0tkANRS25pt9R6BcWzIR4Yuv/zyvPrqq33vQv2d73wn73jHO4Z9MACA\n",
              "kTDkI0P33Xdfbrjhhhw4cCC/+Zu/mR/+8IfZtk2xAwBj05Bi6MyZM+nt7c3jjz+ef/u3f0tVVVmy\n",
              "ZEnf+UMAAGPNkGLokksuyYoVK/LCCy/khhtuqNVMAAAjZsjnDM2YMSP79++vxSwAACNuyOcMvfba\n",
              "a+no6MiSJUvyy7/8y333b9myZVgHAwAYCecdQytWrMiDDz6Y5cuX58Ybb8yv/Mqv1HIuAIARcd4x\n",
              "9MwzzyRJli9fnvnz5+e5556r2VAAACNlyOcMJUlVVcM9BwBAXZz3kaHXX3893/ve91JVVd54442+\n",
              "f79p7ty5NRkQAKCWhhRDN954Y9/Hb/13Q0NDDhw4MLyTAQCMgPOOoe7u7hqOAQBQHxd0zhAAwHgh\n",
              "hgCAookhAKBoYggAKJoYAgCKJoYAgKKJIQCgaGIIACiaGAIAiiaGAICiiSEAoGg1i6E33ngjN910\n",
              "U2bOnJl58+bluuuuy/79+5MkR44cyfXXX58ZM2Zk9uzZ2b59e9/zarEGADCYmh4ZWrFiRfbu3ZsX\n",
              "Xnghy5Yty6c+9akkyZo1a7J48eLs27cvXV1due2223Lq1KmarQEADKZmMfRLv/RL+ehHP5qGhoYk\n",
              "yeLFi9P9v1e+37RpUz796U8nSRYuXJh3v/vdeeKJJ2q29vNOnjyZEydO9Lv19vbWYBcAgNFuxM4Z\n",
              "2rBhQ5YtW5ajR4/m1KlTufLKK/vW2tra0tPTU5O1gaxbty6TJk3qd9uxY0cNvmsAYLQbkRi65557\n",
              "sn///qxbt24kvtz/ae3atTl+/Hi/26JFi+o9FgBQBzWPofvvvz9btmzJo48+mssuuywtLS1pbGzM\n",
              "4cOH+x7T3d2d1tbWmqwNpKmpKc3Nzf1uEyZMqMF3DwCMdjWNofXr1+fhhx/OY489lsmTJ/fdf+ut\n",
              "t+aBBx5IkuzcuTOvvPJKli5dWrM1AIDBNNbqE//nf/5nPvvZz+bqq6/Ohz70oSRnj8g8/fTTue++\n",
              "+/KJT3wiM2bMyKWXXpqNGzdm4sSJSVKTNQCAwTRUVVXVe4jRYNWqVVm/fn29xwAYs9rWbKv3CIxi\n",
              "3fd+rN4jDMo7UAMARRNDAEDRxBAAUDQxBAAUTQwBAEUTQwBA0cQQAFA0MQQAFE0MAQBFE0MAQNHE\n",
              "EABQNDEEABRNDAEARRNDAEDRxBAAUDQxBAAUTQwBAEUTQwBA0cQQAFA0MQQAFE0MAQBFE0MAQNHE\n",
              "EABQNDEEABRNDAEARRNDAEDRxBAAULTGeg8AwMhqW7Ot3iPAqOLIEABQNDEEABRNDAEARRNDAEDR\n",
              "xBAAUDQxBAAUTQwBAEUTQwBA0cQQAFA0MQQAFE0MAQBFE0MAQNHEEABQNDEEABRNDAEARRNDAEDR\n",
              "xBAAUDQxBAAUTQwBAEUTQwBA0cQQAFA0MQQAFK2x3gMA8Iva1myr9whQDEeGAICiiSEAoGhiCAAo\n",
              "mhgCAIomhgCAookhAKBoYggAKJoYAgCKJoYAgKLVNIbuvPPOtLW1paGhIbt27eq7f9++fVmyZElm\n",
              "zpyZhQsXZs+ePTVdAwAYTE1j6Hd/93fz1FNP5aqrrup3/8qVK7NixYq89NJLWb16dTo7O2u6BgAw\n",
              "mIaqqqpaf5G2trZs3bo1HR0dOXLkSNrb2/Paa6+lsbExVVVl6tSpeeqpp9Lc3Dzsa+3t7ec146pV\n",
              "q7J+/foa7wTA+XFtMsab7ns/Vu8RBjXiF2o9ePBgpk6dmsbGs1+6oaEhra2t6enpyaRJk4Z9baAY\n",
              "OnnyZE6ePNnvvt7e3lp+2wDAKFXkCdTr1q3LpEmT+t127NhR77EAgDoY8RiaPn16Dh06lNOnTydJ\n",
              "qqpKT09PWltba7I2kLVr1+b48eP9bosWLRqB7x4AGG1GPIamTJmS+fPnZ+PGjUmSzZs3Z9q0aWlv\n",
              "b6/J2kCamprS3Nzc7zZhwoQR+O4BgNGmpidQr1y5Mtu2bcvhw4fT0tKSyy+/PPv378/evXvT2dmZ\n",
              "o0ePprm5OV1dXZkzZ06S1GTtfDiBGhhNnEDNeDOaT6Aekb8mGwvEEDCaiCHGm9EcQyP+12QA44lo\n",
              "gbGvyL8mAwB4kxgCAIomhgCAookhAKBoYggAKJoYAgCKJoYAgKKJIQCgaGIIACiaGAIAiiaGAICi\n",
              "iSEAoGhiCAAomhgCAIomhgCAojXWewCAWmtbs63eIwCjmCNDAEDRxBAAUDQxBAAUTQwBAEUTQwBA\n",
              "0cQQAFA0MQQAFE0MAQBFE0MAQNHEEABQNDEEABRNDAEARXOhVmDUcEFVoB4cGQIAiiaGAICiiSEA\n",
              "oGhiCAAomhgCAIomhgCAookhAKBoYggAKJoYAgCK5h2ogSHxLtHAeOPIEABQNDEEABRNDAEARRND\n",
              "AEDRxBAAUDQxBAAUTQwBAEXzPkMwTnk/IIDz48gQAFA0MQQAFE0MAQBFE0MAQNHEEABQNH9NBnXk\n",
              "L74A6s+RIQCgaGIIACiaGAIAiuacITgPzu0BGL8cGQIAiiaGAICieZmMccNLWQBciHF1ZGjfvn1Z\n",
              "smRJZs6cmYULF2bPnj31HgkAGOXG1ZGhlStXZsWKFens7Mw3vvGNdHZ2ZufOnfUei7dw9AaA0Wbc\n",
              "xNCRI0fyzDPP5J/+6Z+SJLfccks+85nPZP/+/Wlvb+/32JMnT+bkyZP97uvt7R2xWccC0QJAKcZN\n",
              "DB08eDBTp05NY+PZb6mhoSGtra3p6en5hRhat25d/uIv/qLffe9///uzatWqfvf19vZmx44dWbRo\n",
              "USZMmFDbb2CUufkin1/y3g0H+3fh7N3FsX8Xzt6d26pV3znn+oXu31VXXZU//dM/vajZGqqqqi7q\n",
              "M4wSzz77bG677bbs3bu3775Fixbl3nvvzYc//OF+jx3oyFBTU1Oampr63XfixIlMmjQpx48fT3Nz\n",
              "c+2GH4fs3cWxfxfO3l0c+3fh7N3Fqef+jZsjQ9OnT8+hQ4dy+vTpNDY2pqqq9PT0pLW19RceO1D4\n",
              "AABlGjd/TTZlypTMnz8/GzduTJJs3rw506ZN+4WXyAAA3mrcHBlKkr/5m79JZ2dn7rnnnjQ3N6er\n",
              "q6veIwEAo9y4iqFZs2bl3//934ft8zU1NeULX/iCl9QugL27OPbvwtm7i2P/Lpy9uzj13L9xcwI1\n",
              "AMCFGDfnDAEAXAgxBAAUTQwBAEUTQ4Nw0dez2traMmvWrHR0dKSjoyOPPPJIknPvTy3WxoI777wz\n",
              "bW1taWhoyK5du/ruH+m9Gqv7ONj+DfYzmNi/N73xxhu56aabMnPmzMybNy/XXXdd9u/fn+TspYqu\n",
              "v/76zJgxI7Nnz8727dv7njfSa6PRufbugx/8YN773vf2/ez91V/9Vd/z7N3/95GPfCRz585NR0dH\n",
              "rr322jz//PNJxtjvvooBfehDH6q6urqqqqqqv//7v69+4zd+o74D1clVV11VPf/8879w/7n2pxZr\n",
              "Y8ETTzxRHTx48Bf2bKT3aqzu42D7N9jPYFXZvze9/vrr1bZt26ozZ85UVVVVX/nKV6qlS5dWVVVV\n",
              "n/zkJ6svfOELVVVV1Y4dO6r3vOc91c9+9rO6rI1G59q7pUuXVt/85jcHfJ69+//+67/+q+/fW7Zs\n",
              "qebOnVtV1dj63SeGBvDqq69Wl19+eXXq1KmqqqrqzJkz1bve9a5q3759dZ5s5A30H9G59qcWa2PN\n",
              "W/dspPdqPOzj+caQ/Rvczp07q6uuuqqqqqp6+9vfXh06dKhvbeHChdVjjz1Wl7Wx4K17d64YsncD\n",
              "6+rqqubNmzfmfvd5mWwA57roa4luv/32zJkzJ3/4h3+YH//4x+fcn1qsjWUjvVfjdR9//mcwGfm9\n",
              "HUs2bNiQZcuW5ejRozl16lSuvPLKvrW2trb09PSM+NpY8ebevWnNmjWZM2dOPv7xj+fAgQNJYu8G\n",
              "cPvtt2f69On5/Oc/n4ceemjM/e4TQ5zT9u3bs3v37jz33HO54oorsnz58nqPRGH8DA7NPffck/37\n",
              "92fdunX1HmXM+fm9e+ihh/Liiy9m9+7dufbaa/Pbv/3bdZ5w9Pr617+egwcP5u67787q1avrPc6Q\n",
              "iaEBvPWir0nOedHX8e7N73nixIm566678uSTT55zf2qxNpaN9F6Nx30c6GcwGfm9HQvuv//+bNmy\n",
              "JY8++mguu+yytLS0pLGxMYcPH+57THd3d1pbW0d8bbT7+b1Lzv6MJWePMnzmM5/JgQMHcvToUXt3\n",
              "DsuXL8/jjz+eadOmjanffWJoAC76etZPf/rTHDt2rO/jhx9+ONdcc80596cWa2PZSO/VeNvHwX4G\n",
              "k5Hf29Fu/fr1efjhh/PYY49l8uTJffffeuuteeCBB5IkO3fuzCuvvJKlS5fWZW20GmjvTp8+nVdf\n",
              "fbXvMZs3b8673vWutLS0JLF3bzp27Fh+9KMf9X28devWtLS0jL3ffRd1ptQ49uKLL1aLFy+uZsyY\n",
              "US1YsKDavXt3vUcacf/xH/9RdXR0VHPmzKlmz55d3XjjjdUPf/jDqqrOvT+1WBsLVqxYUb3nPe+p\n",
              "JkyYUE2ZMqV63/veV1XVyO/VWN3HgfbvXD+DVWX/3nTw4MEqSXX11VdX8+bNq+bNm1ctWrSoqqqq\n",
              "Onz4cHXddddV7e3t1a/92q9V//Iv/9L3vJFeG40G27v//u//rhYsWFDNnj27mjt3bvXhD3+42rVr\n",
              "V9/z7N1Z3d3d1cKFC/v26bd+67f6/uBhLP3uc20yAKBoXiYDAIomhgCAookhAKBoYggAKJoYAgCK\n",
              "JoYAgKKJIQCgaGIIACiaGAIAiiaGAICiiSEAoGj/D3DGwMccx79XAAAAAElFTkSuQmCC\n",
              "\">\n",
              "      </div>\n",
              "      <script type=\"text/javascript\">\n",
              "        (() => {\n",
              "          const chartElement = document.getElementById(\"chart-d87d08cd-fe49-4568-a1b2-1bad58ca907c\");\n",
              "          async function getCodeForChartHandler(event) {\n",
              "            const chartCodeResponse =  await google.colab.kernel.invokeFunction(\n",
              "                'getCodeForChart', [\"chart-d87d08cd-fe49-4568-a1b2-1bad58ca907c\"], {});\n",
              "            const responseJson = chartCodeResponse.data['application/json'];\n",
              "            await google.colab.notebook.addCell(responseJson.code, 'code');\n",
              "          }\n",
              "          chartElement.onclick = getCodeForChartHandler;\n",
              "        })();\n",
              "      </script>\n",
              "      <style>\n",
              "        .colab-quickchart-chart-with-code  {\n",
              "            display: block;\n",
              "            float: left;\n",
              "            border: 1px solid transparent;\n",
              "        }\n",
              "\n",
              "        .colab-quickchart-chart-with-code:hover {\n",
              "            cursor: pointer;\n",
              "            border: 1px solid #aaa;\n",
              "        }\n",
              "      </style>"
            ]
          },
          "metadata": {}
        },
        {
          "output_type": "display_data",
          "data": {
            "text/plain": [
              "<google.colab._quickchart_helpers.SectionTitle at 0x7d351a975900>"
            ],
            "text/html": [
              "<h4 class=\"colab-quickchart-section-title\">Values</h4>\n",
              "<style>\n",
              "  .colab-quickchart-section-title {\n",
              "      clear: both;\n",
              "  }\n",
              "</style>"
            ]
          },
          "metadata": {}
        },
        {
          "output_type": "display_data",
          "data": {
            "text/plain": [
              "from matplotlib import pyplot as plt\n",
              "Speeed[0].plot(kind='line', figsize=(8, 4), title=0)\n",
              "plt.gca().spines[['top', 'right']].set_visible(False)"
            ],
            "text/html": [
              "      <div class=\"colab-quickchart-chart-with-code\" id=\"chart-43f1352a-c488-4460-9f6d-3bfbd99ad305\">\n",
              "        <img style=\"width: 180px;\" src=\"data:image/png;base64,iVBORw0KGgoAAAANSUhEUgAAArMAAAFbCAYAAADGGAZpAAAAOXRFWHRTb2Z0d2FyZQBNYXRwbG90\n",
              "bGliIHZlcnNpb24zLjcuMSwgaHR0cHM6Ly9tYXRwbG90bGliLm9yZy/bCgiHAAAACXBIWXMAAA9h\n",
              "AAAPYQGoP6dpAAA370lEQVR4nO3deXRU553n/08tUmmt0r6AVBJCEjYgEDvGxhhvsR0nOMcmTrsd\n",
              "m8Qe6CXtJHRmbKaPO0lPBn6/iZuExEnsdHpIHE8zjoPtLF7adrxgvLAYMCAWSQihfd+3klR1548S\n",
              "BbIEBiHpqqT365x7hO5TVf5eP0fwOV8997kWwzAMAQAAAEHIanYBAAAAwEgRZgEAABC0CLMAAAAI\n",
              "WoRZAAAABC3CLAAAAIIWYRYAAABBizALAACAoEWYBQAAQNCasmF227ZtZpcAAACAKzRlw+yZM2fM\n",
              "LgEAAABXaMqGWQAAAAQ/wiwAAACCFmEWAAAAQeuyw+ytt96qefPmKT8/XytXrtTBgwclSUVFRVqx\n",
              "YoVyc3O1ZMkSFRQUBN4z3mMAAACYIozL1NzcHPjzCy+8YMybN88wDMNYvXq1sX37dsMwDOP55583\n",
              "Fi9eHHjdeI9dim9/+9uX9XoAAABMPBbDMIyRBuFf//rX+vGPf6zXX39d2dnZampqkt1ul2EYSk1N\n",
              "1e7du+V0Osd1LDs7+5Jq37hxo7Zu3TrSSwcAAMAEYB/Jmx544AG9/fbbkqRXXnlF5eXlSk1Nld3u\n",
              "/ziLxSK3262ysjK5XK5xHRsuzHo8Hnk8nkHnvF7vSC4dAAAAE8iIbgB75plnVF5erh/84Ad69NFH\n",
              "R7umUbdlyxa5XK5Bx969e80uCwAAAFfoinYzePDBB/X2228rLS1N1dXV6u/vlyQZhqGysjK53W6l\n",
              "p6eP69hwNm3apNbW1kHH0qVLr+TSAQAAMAFcVphtaWlRVVVV4PuXXnpJ8fHxSkpK0sKFC/Xss89K\n",
              "knbu3Km0tDRlZ2eP+9hwHA6HnE7noMNms13m/yoAAABMNJd1A9iZM2e0du1adXd3y2q1KjExUU88\n",
              "8YTy8/N18uRJrVu3To2NjXI6ndq+fbvy8vIkadzHLgU3gAEAAAS/K9rNIJiNZ5i962fvyxkeoukx\n",
              "YZoeE67pseGaHhOh6bHhSo52yG7j2RUAAAAjMaLdDHDpOjz9OlTecsFxm9WiFOf5Iffc12kx/q/h\n",
              "oSyJAAAAGA5hdoyF2qz6Pw8vU2VztypaulXZ3K3Kli5VtfSourVbfV5DlS3dqmzplkqH/4z4yNBz\n",
              "QfdsyB34Pi02XK7wEFkslnG9LgAAgImAMDvGQu1WXZudMOyY12eovt2jypYuVTR3q6qlR5UtXQOB\n",
              "1x98O3u9auzsVWNnrw5XtA77OZGhNk2PPdfJPT/oTo+JUGK0QzYrYRcAAEw+hFkT2awWpbjClOIK\n",
              "06KMoeOGYaitu18Vnwq4lS3dqhro5jZ09Kqz16vC2g4V1nYM+98Jsfn/O/7Orn+tbtpA2E2Pi1CK\n",
              "K0whrNsFAABBiDA7gVksFrkiQuSKcGnONNewr+np8wZC7tmAe/6Shpq2HvV5DZU3dau8qVtS05DP\n",
              "sFqkVNe5cJsWG6602Ailx4YrLS5CKc4wOrsAAGBCIswGubAQm2YmRmlmYtSw416fodq2nkFd3cqW\n",
              "blU0d6ui2b+8obffFzi/5/TQsGu3WjQtJlzpceFKi4nwf4099zUxyiErYRcAAJiAMDvJ2QaC6LSY\n",
              "cC3JHDru8xlq6PCo/LxwW9408LW5S1Ut/pvUypq6VNbUJalxyGeE2q3+ZQsDXd302LPdXX+nNz4y\n",
              "lBvUAADAmCDMTnFWq0VJzjAlOcO0KCN2yPjZzu6nQ25Fc5fKm7pV3erv7JY0dKqkoXPY/0Z4iG1Q\n",
              "uD0XeP3dXXZjAAAAI0WYxUWd39ldOiNuyHif16ea1h5/wG3yd3fPdnnLm7pV296j7j6viuo6VFQ3\n",
              "/A1q0Q673PERcsf5j/SBrxnxEZoWE87NaQAA4IIIs7giITar0gcCqGYOHff0e1XV0jPsEoaK5m7V\n",
              "t3vU7ulXQVWbCqrahrzfapGmxYQHgu75odcdF6GYiNBxuEoAADBREWYxphx2m2YkRGpGQuSw4929\n",
              "XlU0dwXW5JY1dams8dyfPf2+gZvVuvXBqaHrdZ1h57q6gY5uXKTccRFKjWHLMQAAJjvCLEwVHmpT\n",
              "TnK0cpKjh4wZhv+hEmeD7ZnGLpWfF3rr2j1q6+nX0co2Ha0c2tX1L5EIG+jiRg7q6LrjIuSKCBmP\n",
              "SwQAAGOIMIsJy2I5d3Pa4syh63W7e70qbx7cyS1v6tKZga+efl9gf933h9mFwRUeEli6kBkfoYz4\n",
              "SGXGRyoz3v/UNG5KAwBg4iPMImiFh9qUmxyt3GG6uj6fofoOz5BlC2eP+naPWrv7dKSyVUcqhz4m\n",
              "ODzEpoz4CGXGRyojIUIz4iP9YTchQsnRYeyrCwDABEGYxaRktVqU7AxTsjNMS4bp6nb19quiuVtn\n",
              "Grt0prFTZxq7VDrwtaK5S919Xp2oadeJmvYh73XYrcoIdHLPdXTP7r7A09IAABg/hFlMSRGh9gt2\n",
              "dc8+Ea20oTMQcM9+Pbt8obC2Q4W1Q7caC7VZlRYXPqiTezb0To8Jl50b0gAAGFWEWeBTQu3WC+7A\n",
              "0O/1qaqlZyDcdup0g7+zW9rYqfKmbvV6fSqp71RJ/dAHSNitFqXFhg/q6M5IjFRWQiRBFwCAESLM\n",
              "ApfBbrP6twKLj5CUOGjM6zNU3do9qJN7fnfX0+9TaWOXShu79O6nPjfEZpE7LkIzEqI0MzEyEKZn\n",
              "JEYqMYqb0QAAuBDCLDBKbFaL0gYe03ttdsKgMZ/PUG17j0oDnVx/0D3d0KnTjZ3q7ffpVH2nTtV3\n",
              "6s3jgz83ymE/F24TIpV1XtiNDmN7MQDA1EaYBcaB1WpRqitcqa5wXTMzftCYz2eoqrXbH2wb/EsU\n",
              "zv65orlLHZ7+C+66kBjt8AfcT4Xd9LgIOey28bo8AABMQ5gFTGY9r6O7Mmfw0gVPv1flTV2BgBv4\n",
              "2tCphg6P6tv9x97TTYM/0yKlxUYMCrhZCVGakRipVCdbiwEAJg/CLDCBOew2ZSdFKztp6K4LbT19\n",
              "gaUK53dzS+o71NnrDeyp+25h/aD3hYfYlJUYqeykKM1MHDiS/NuLhYXQzQUABBfCLBCknGEhmpcW\n",
              "o3lpMYPOG4b/gRGnz+viltR3qqShQ2WN/j10C6raVFA1+BHAVouUHhcxEHAjB0KuP+zGRYaO45UB\n",
              "AHDpCLPAJGOxWJQUHaak6DAtyxq8PrfP61N5U9fAzWYdKq7rCHxt7+kfeIhEl946Mfgz4yJDzwXc\n",
              "gU5udmK0psfykAgAgLkIs8AUEmKzKisxSlmJUbpFyYHzhmGooaNXp+o7zgu5nTpV16HKlm41dfaq\n",
              "qbNX+0qbB31eqN2qrITIc93cgU5uVmKkIkL56wUAMPb41waALBaLEqMdSox2aPmnurndvV6VNPjD\n",
              "7dlO7qm6DpU0+LcUu9Bjf6fHhCsnOUo5SVHKSY5WTlKUspOi2E4MADCqCLMALio81KY501yaM801\n",
              "6LzXZ6iqpVvFA+HWH3L9yxcaO3tV2dKtypZuvXNy8A1o01xhyk6OVm5SlHKSo5SdFK2c5Cg5CbkA\n",
              "gBEgzAIYEZvVovS4CKXHRWj1rKRBY82dvSqu71BRbYcKa9tVXOf/WtfuUVVrj6pae7TrU7sspDjD\n",
              "Bjq5/nCbOxB0XeGEXADAhRFmAYy62MhQLYmM05LMuEHnW7v6VFzfrsJaf9AtqmtXUW2Hatp6Asd7\n",
              "RQ2D3pMU7VBucrSyk6KUmxwdWLoQE8EOCwAAwiyAceSKCNGijDgtyvhUyO3uU3Fdh4rrBoJuXYeK\n",
              "attV3dqjunaP6to92l08OOQmRjuUMxBwr0qJ1qyUaOUmRyvSwV9rADCV8Lc+ANO5wkO0KCNWizJi\n",
              "B51v7+lTUV2Hige6uIW1/p0WKlu6A08/++BU46D3uOMiNCvFH3DPBt0ZCZGy26zjeUkAgHFCmAUw\n",
              "YUWHhWihO1YL3YNDboen378Ot6ZdJ2vbdXJgR4WGDk/gyWdvHKsNvD7UZtXMpKhAB3dWSrRmJUcr\n",
              "1RUmi4V9cgEgmBFmAQSdKIdd+ekxyk+PGXS+scMTCLdnA25hbbu6er06Xt2m49WDn3rmDLOfC7cp\n",
              "zkA3l5vOACB4EGYBTBrxUQ6tiHJoxcyEwDmfz1BFc7dO1LSpsNYfcE/WtKukoVNtPf3aV9o85GEQ\n",
              "qa6wQMidnerU7FQnSxUAYIIizAKY1KxWi9zxEXLHR+jWOSmB855+r07VdepkbZtO1nToZE2bTta0\n",
              "q6q1R9UDx/l75DrsVuUm+8Pt1anRmj3NpatSo9kfFwBMRpgFMCU57DbNnubU7GnOQedbu/vO6+C2\n",
              "6Xh1u45Xt6mr16sjla06Utk66PVpseEDAdd/zJnmVFpsOGtxAWCcEGYB4Dyu8BAtyRy8R67PZ6is\n",
              "qUvHBtbdHq9u07GqNlW19qiiuVsVzd16/bwbzqId9oFwG62rU/2BOTc5WmEhNjMuCQAmNcIsAHwG\n",
              "q9WizIRIZSZE6o681MD5lq5eHa9uD4TcY1VtKq7rULunX3tLm7S3tOncZ1ikrMSoQBd3zjSn5k53\n",
              "KS6Shz8AwJUgzALACMVEhOqamfG6ZmZ84Fyf16dT9R06VnW2i+sPu02dvQMPhujQHz+pCrx+mitM\n",
              "c6a7lDfdpbnTnZo7zaUkZ5gZlwMAQYkwCwCjKMRm1VUpTl2Vcm4trmEYqmv36NhA9/bs19MNnapq\n",
              "7VFVa8+gfXETox2aO9C5nTPNH3Knx7AOFwCGQ5gFgDFmsViU7AxTsjNMq2clBc639/TpWFWbjla1\n",
              "qaCyVUerWlVc16H6do/ePlmvt8/bTSEmIkRzp7k097wOrjsuQlYrARfA1HZZYbanp0df+cpXdOzY\n",
              "MYWHhyspKUm/+MUvlJ2drRtuuEFnzpyRy+WSJD344IP69re/LUmqq6vTAw88oFOnTsnhcOjnP/+5\n",
              "rr/++jEbA4BgEB0WomVZ8VqWdW6ZQnevV8eq21RQ1aqjla06WunfH7elq0+7ixu0u7jh3Psdds0e\n",
              "6ODOne5U3nSXshKiCLgAppTL7syuX79et99+uywWi5588kk9/PDDeueddyRJP/rRj3TXXXcNec9j\n",
              "jz2m5cuX67XXXtO+ffv0pS99SadPn1ZISMiYjAFAsAoPtWlRRqwWZZx7hK+n36vCmg4dPRtwB9bj\n",
              "tnv6ted0k/acPnejWZTDrrnTnZqfFqN5aTGal+ZiqzAAk9plhdmwsDDdcccdge+XL1+uJ5544jPf\n",
              "97vf/U7FxcWSpCVLlmjatGl69913dfPNN4/J2Kd5PB55PJ5B57xe7+VcOgCYxmG3KS/Npbw0V+Dc\n",
              "2RvNjlS0qqCqTUcqW1VQ1aoOT78+KmnSRyXnAm58ZKjy0lyanxaj+ekuzUuLUUKUw4xLAYBRd0Vr\n",
              "Zrdt26Y1a9YEvn/sscf0+OOPa/bs2dqyZYuysrLU2Niovr4+paSce/JOZmamysrKxmRsOFu2bNH3\n",
              "v//9QeeWL19+JZcOAKY6/0aztQPn+r0+FdV16HBFiz6paNXhihadqG5XY2ev3jlZP+iJZtNjwjUv\n",
              "zR9s56e5NDfNxdPMAASlEYfZzZs3q7i4WH/5y18kSb/97W+Vnp4uwzD0s5/9THfeeaeOHTs2aoVe\n",
              "iU2bNmnjxo2Dzj3++OMmVQMAY8NuswaeRHbvEv+5nj6vjle36XBFqz6paNHhiladqu9QZUu3Klu6\n",
              "9erRmsD7sxIjB5Yn+EPunGlOHvQAYMIbUZh94okn9MILL+jNN99URESEJCk9PV2S/67db3zjG/rO\n",
              "d76jxsZGxcfHy263q6amJtBJLS0tldvtHpOx4TgcDjkcg3+lZrPxFzSAyS8sxKYF7lgtcJ9bg9ve\n",
              "06ejlW06PBBuP6loUUVzt0rqO1VS36kXD1ZKkkJsFs2e5tKC9BgtcMdooTuW9bcAJpzLDrNbt27V\n",
              "jh079OabbyomJkaS1N/fr8bGRiUnJ0uSdu7cqeTkZMXH++/QXbt2rZ566il973vf0759+1RZWalV\n",
              "q1aN2RgA4MKiw0KGPOyhscOjw5WtOlzeOrBMoUUNHb36pLxFn5S36Ncf+F+XEBWq/PRYLXD7A+78\n",
              "tBhFOtjlEYB5LIZhGJf64oqKCqWnpysrK0vR0dGS/F3Pt956S6tWrZLH45HValVCQoK2bt2q+fPn\n",
              "S5Jqa2v11a9+VadPn1ZoaKiefPJJrV69eszGLsXGjRu1devWS349AEwlhmGoorlbB8tbdLCsWQfL\n",
              "WlRQ1ao+7+B/MqwWaVaK0x9u02O0wB2rrIRItgcDMG4uK8xOJoRZALg8PX1eFVS1+cNteYsOlbWo\n",
              "sqV7yOucYXblu2MDyxMWpMfKFcHNZQDGBr8bAgBckrCQoXvg1rb16GBZiw6W+7u3hyta1NbTr12F\n",
              "9dpVeG73hNzkKC3KiNOSzFgtzohTehxrbwGMDsIsAGDEkp1hum1uim6b678Zt8/r08ma9sDShANl\n",
              "zSpt7FJhbYcKazu0Y69/C8WkaIcWZ8YGAu7VqU6F2KxmXgqAIEWYBQCMmhCbdeDxui599Rr/uYYO\n",
              "jz4+06yPzzRrX2mTjla2qq7do1eO1OiVI/6twcJDbFrgjtHijFgtyozTQneMotn3FsAlIMwCAMZU\n",
              "QpRDn5uTos/N8Xdve/q8+qS8RfsHAu7+0ia19fTrg1ON+uBUo6RzN5YtzojV4sxYLc6M0/SYcDMv\n",
              "A8AERZgFAIyrsBCblmXFa1mWf2swn89QcX2H9pU26ePSZu0/06yypi4dr27T8eo2/fajM5L8Ty1b\n",
              "lhWn5TPitSwrTu64CNbdAmA3AwDAxFPX1qP9A8sSPj7TrIKqNnl9g/+5SnGGaVlWnJYNhNushEjC\n",
              "LTAF0ZkFAEw4Sc4w3ZGXqjvyUiVJHZ5+fXymWXtKGrX3dJM+qWhRTVuP/nCoSn84VCVJSox2aOmM\n",
              "OC2fEadlWfHKSYoi3AJTAGEWADDhRTnsWpWbqFW5iZKk7l6vDpY166PTTdpT0qiD5S2qb/fo5cPV\n",
              "evlwtSQpLjJUSzPjAt3bq1KieZgDMAkRZgEAQSc81KYV2QlakZ0g6dxNZXtON2nP6UZ9fKZZTZ29\n",
              "eq2gRq8V+HdMiIkI0TVZ8VqRnaBrZ8ZrBssSgEmBMAsACHqDbyrLUW+/T0cqW/RRSZP2nG7Sx6VN\n",
              "aunq06tHa/TqUX+4TXWF6ZqZ8bp2ZoKuzU5QiivM3IsAMCLcAAYAmPT6vD4drmjVB8UNev9Ugw6c\n",
              "aVGv1zfoNVkJkVqR7Q+318yMV0xEqEnVArgchFkAwJTT0+fV/tJmvX+qQR8UN+hIZavO3yzBYpFm\n",
              "pzp1bXaCVsyM19IZcYoI5ZeZwETETyYAYMoJC7HpupwEXZfjX3Pb2t2nPSX+hza8X9ygoroOFVS1\n",
              "qaCqTb/cVaIQm0WLM+J0fW6irs9N0NUpTm4mAyYIOrMAAHxKXXuPPhwItu8XN6qypXvQeEKUQytz\n",
              "EnR9boJW5iQqIcphUqUA6MwCAPApSdFhWpM/XWvyp8swDJU2dmlXYb12Fdbrw5JGNXR49OLBSr14\n",
              "sFKSNGeaUytz/F3bxRlxCrVbTb4CYOogzAIAcBEWi0UzEiI1IyFSD67IVG+/Tx+fadauIn+4Pbsc\n",
              "oaCqTU+9e0oRoTZdkxU/sCQhUTMSIs2+BGBSY5kBAABXoL7do93F9dpV2KD3iurV0NE7aDwzPkKr\n",
              "r0rSjVclaemMODnsNpMqBSYnwiwAAKPE5zN0vKZNuwobtKuwXvvPNKnPe+6f2chQ/41nN16VpNWz\n",
              "kpTkZG9b4EqxzAAAgFFitVo0Z5pLc6a59Lc3zFSHp1+7i+r11ok6vX2yXvXtHv1nQa3+s6BWkjR3\n",
              "ulM3zkrS6quSND8thh0SgBEgzAIAMEaiHHbdNjdVt81Nlc9nqKCqTW+dqNNbJ+t0uKJFRyvbdLSy\n",
              "TT95q1gJUaFaletfjnB9boKiw0LMLh8ICiwzAADABPXtHr1zsk5vn6zTe4UNavf0B8ZCbBZdMzNB\n",
              "t85O1i2zk5XMcgTgggizAACYrM/r077SJr19ok5/OVGnkvrOQeP56TG6dU6ybp2douykKJOqBCYm\n",
              "wiwAABNMcV2H3jhWq9eP1ehgWcugsayESN0yEGwXpLPOFiDMAgAwgdW19eiN47V641itPihuVK/X\n",
              "FxhLiHLoltnJunVOsq6dmcDDGjAlEWYBAAgS7T19erewXq8X1OrtE3WD1tlGh9l1y+xkfT4vVdfl\n",
              "JLCfLaYMdjMAACBIRIeF6M5503TnvGnq7ffpo5JGvX6sRv9ZUKv6do9eOFCpFw5UKtrhD7a356Vq\n",
              "ZU6CwkIItpi86MwCABDkvD5DH59p1itHqvXKkWrVtXsCY1EOu26+Okl35KXq+txEgi0mHcIsAACT\n",
              "iM9n6OOyZr18uFqvHq1WbdvgYHvT1Un6fF6qVs1KZCkCJgXCLAAAk5TPZ+hAWbNePlKtV4/UqKat\n",
              "JzDmDLPrjrxUrcmfrmUz4tgVAUGLMAsAwBTg8xk6WN6iV45U68+HqwZ1bFOcYfrCfH+wnTPNKYuF\n",
              "YIvgQZgFAGCK8foM7TndqD8eqtIrR6rV1nNuV4SZiZFakz9da/KnKSM+0sQqgUtDmAUAYArz9Hv1\n",
              "zsl6/fFQld48XitP/7l9bPPTY3RX/jR9MX+64iJDTawSuDDCLAAAkOTfx/b1glq9dKhS7xc3yDeQ\n",
              "EEJsFt10VbLuWZSmVbMSFWLj4QyYONhnFgAASPLvY3v3ojTdvShN9e0e/flwlV44UKkjla16raBG\n",
              "rxXUKCEqVHflT9c9i9N0VYrT7JIBOrMAAODiTtS0aefHFXrxYKUaOnoD5+dOd+qehWksQ4CpCLMA\n",
              "AOCS9Hl92lVYr+f3V+gvJ2rV5/VHiBCbRTdfnayvLHVrZXYC23xhXLHMAAAAXJIQm1U3XZ2sm65O\n",
              "VlNnr/54qFK/P1Cho5VtevVojV49WqO02HB9ZUm6vrw4XUnOMLNLxhRAZxYAAFyR49Vtem5fuV44\n",
              "UBHY5stmtejmq5N037IMurUYU4RZAAAwKnr6vHr5cLV27C3T/jPNgfN0azGWCLMAAGDUnaxp1469\n",
              "ZUO6tbfOTtaDKzK1bEYcTxrDqLisjeJ6enp01113KTc3V/Pnz9ctt9yi4uJiSVJdXZ1uu+025eTk\n",
              "aO7cudq1a1fgfeM9BgAAzDUrJVrf++Ic7fnvN+tf187XooxYeX2GXj1ao6/88iPdvu097dhbpu5e\n",
              "r9mlIshd9q7H69ev18mTJ/XJJ59ozZo1evjhhyVJjz32mJYvX66ioiJt375d9913n/r6+kwZAwAA\n",
              "E0N4qE13L0rTzr9dode+tVL3LXMrPMSmEzXt2vTCES3f8hdteeW4ypu6zC4VQeqKlhns379f99xz\n",
              "j0pLSxUVFaXi4mKlpKRIkpYuXarNmzfr5ptvHvexT/N4PPJ4PIPOPf7449q2bdtILx0AAIxQa1ef\n",
              "fre/XM98VKrypm5JktUi3XR1statyNSKmfEsQcAlu6Ln0W3btk1r1qxRY2Oj+vr6AsFSkjIzM1VW\n",
              "VjbuY8PZsmWLXC7XoGPv3r1XcukAAGCEXBEh+i/XZ+md76zWrx5YrJU5CfIZ0hvHavXXv9qj2378\n",
              "nn7/cYV6+31ml4ogMOIwu3nzZhUXF2vLli2jWc+Y2LRpk1pbWwcdS5cuNbssAACmNJvVoptnJ+u3\n",
              "Dy3TmxtX6YFrMhQZatPJ2nZ95/lPtPJ/vaWn3j2lth6WEeLCRhRmn3jiCb3wwgt69dVXFRERofj4\n",
              "eNntdtXU1AReU1paKrfbPe5jw3E4HHI6nYMOm802kksHAABjIDspSv+yZq4+2HSTHr3tKiVFO1Tb\n",
              "5tH/9+oJrdjyln7w52Oqauk2u0xMQJcdZrdu3aodO3bojTfeUExMTOD82rVr9dRTT0mS9u3bp8rK\n",
              "Sq1atcqUMQAAEJxc4SH62xtmavejN+qH98xTbnKUOjz9+tXu07r+f72tbz93SMeq2swuExPIZd0A\n",
              "VlFRofT0dGVlZSk6OlqSv+u5Z88e1dbW6qtf/apOnz6t0NBQPfnkk1q9erUkjfvYpWCfWQAAJj7D\n",
              "MPROYb1++W6JPixpDJy/+eokfePGHOWnx5hXHCYEHpoAAACCwpGKVv3yvRK9fLhKvoH0sjInQf9w\n",
              "Y46WzogztziY5op2MwAAABgveWku/fSvFujNjau0dlGa7FaL3itq0Jef/lBffvpD7S5q0BTt0U1p\n",
              "hFkAABBUshKj9MO18/X2d27QXy9zK9Rm1d7TTbr/3/foSz//QG+fqCPUTiGEWQAAEJTS4yL0P7+U\n",
              "p3f/2w362rWZctitOlTeoq/9ep/ueepDfXiq8bM/BEGPMAsAAIJaqitc3/3CHO1+9EZtuD5LYSFW\n",
              "fXymWX/1bx/p/l/t0aHyFrNLxBgizAIAgEkhMdqhTXdcrV3/dbUeuCZDITaLdhc36K6fva+Hf7Nf\n",
              "x6vZ0msyIswCAIBJJckZpn9ZM1dv/eMNWrsoTVaL9ObxWt3xk/f0yI6DKm/qMrtEjCLCLAAAmJTS\n",
              "4yL0w7Xz9cbGVbpzXqoMQ/rjJ1W66V/f1eZXjqu1i8fkTgaEWQAAMKnNTIzSk/ct1MuPXKfrshPU\n",
              "6/Xpl7tKtOqJt7X9/dPq7feZXSKuAGEWAABMCXOmufTbh5Zq+7olykmKUktXn77/p2O69Ufv6rWj\n",
              "NWznFaQIswAAYMqwWCxafVWSXv3mSv3PL81VQlSoShu79DfPfqx7f/kRN4kFIcIsAACYcuw2q/56\n",
              "WYbe+a+r9Y3V2XLY/Q9euPOnu/X9PxWorYf1tMGCMAsAAKasKIdd3/ncLP3lH1fp9rkp8voMbX+/\n",
              "VDc+8Y5+/3GFfD6WHkx0hFkAADDlpcVG6Bf3L9IzX1+qrMRINXT06jvPf6K1T3+ogqpWs8vDRRBm\n",
              "AQAABlyfm6jXvnm9Hr3tKkWE2vTxmWZ94ae7tfmV4+ru9ZpdHoZBmAUAADhPqN2qv71hpv7yj6v0\n",
              "+Xmp8hnSL3eV6NYfv6v3iurNLg+fQpgFAAAYRqorXD+7b6H+97rFmuYKU3lTt77673v1j7/7RM2d\n",
              "vWaXhwGEWQAAgIu48apkvb5xldatyJTFIu08UKGbt76rP31Sxd60EwBhFgAA4DNEOez63hfn6Pd/\n",
              "s0I5SVFq7OzVP+w4qG/sOEiX1mSEWQAAgEu0KCNWf37kOn3zphzZrBa9fLhat/54l94+WWd2aVMW\n",
              "YRYAAOAyOOw2ffuWXL34dys0MzFS9e0efW37Pv33F4+o09NvdnlTDmEWAABgBOalxejlR1bq69fO\n",
              "kCT9x54y3b7tPR0oaza5sqmFMAsAADBCYSE2/fMXZus/Hl6maa4wlTV16ctPfahf7jrF08PGCWEW\n",
              "AADgCq3ITtBr375en5+Xqn6foc2vnNDXf7NPjR0es0ub9AizAAAAo8AZFqIn/2qBNn8pTw67Ve+c\n",
              "rNcdP3lPH5U0ml3apEaYBQAAGCUWi0X3LXPrpb+/VjMTI1Xb5tF9//aRfvZ2MXvSjhHCLAAAwCi7\n",
              "OtWpP37jOt29ME0+Q/rhf57U3/2fA+x2MAYIswAAAGMg0mHXv355vjZ/KU8hNotePVqjL/38fZU2\n",
              "dJpd2qRCmAUAABhD9y1z6/+uv0ZJ0Q4V1nboi0/u5iELo4gwCwAAMMYWZcTqT/9wnRa6Y9TW06+v\n",
              "/3qffvVeCetoRwFhFgAAYBwkO8P0f9dfo79a6pZhSD94+bi++8cC9Xt9ZpcW1AizAAAA4yTUbtXm\n",
              "L83VP91xtSwW6ZkPz2jDbz/mxrArQJgFAAAYRxaLRf/l+iz9/L6Fctit+suJOn356Q9V29ZjdmlB\n",
              "iTALAABggtvzUrVj/XLFR4aqoKpNd//iA3Y6GAHCLAAAgEkWumP14t9dq8z4CFU0d2vt0x/qRE2b\n",
              "2WUFFcIsAACAidzxEXr+b1boqpRo1bd7dO/TH+lAWbPZZQUNwiwAAIDJEqMdem79NVrojlFrd5/u\n",
              "/9UevV/cYHZZQYEwCwAAMAG4IkL07MPLtDInQV29Xn391/v0AYH2MxFmAQAAJoiIULt+9eBi3XRV\n",
              "kjz9Pj30m/36qKTR7LImNMIsAADABOKw2/Tz+xfqhlmJ6u7zd2j3lTaZXdaERZgFAACYYBx2m566\n",
              "f1FgycG6/72Xm8Iu4LLC7COPPKLMzExZLBYdOnQocD4zM1OzZs1Sfn6+8vPz9dxzzwXGioqKtGLF\n",
              "CuXm5mrJkiUqKCgY0zEAAIDJICzEpn97YLFWzIxX58Aa2uK6drPLmnAuK8zec8892r17tzIyMoaM\n",
              "Pffcczp06JAOHTqke++9N3B+w4YNWr9+vQoLC/Xoo49q3bp1YzoGAAAwWYSF2PSrBxcrPz1GLV19\n",
              "euDf96q6tdvssiYUi2EYxuW+KTMzUy+99JLy8/OH/f6suro6ZWdnq6mpSXa7XYZhKDU1Vbt375bT\n",
              "6Rz1sezs7Eu+ho0bN2rr1q2Xe+kAAADjrqmzV/c89YFK6juVmxyl5zeskCsixOyyJoRRWzP7wAMP\n",
              "KC8vTw899JDq6+slSeXl5UpNTZXdbpfkfxax2+1WWVnZmIxdiMfjUVtb26DD6/WO1qUDAACMqbjI\n",
              "UD3z9aVKdjpUWNuhh5/ZJ08/WUYapTC7a9cuHT58WAcOHFBCQoIefPDB0fjYUbNlyxa5XK5Bx969\n",
              "e80uCwAA4JKlxUboN19fqugwu/aVNmvTC0c0gl+wTzqjEmbdbrckKSQkRN/61rf03nvvSZLS09NV\n",
              "XV2t/v5+SZJhGCorK5Pb7R6TsQvZtGmTWltbBx1Lly4djUsHAAAYN1elOPXzv14om9WiFw5U6t/e\n",
              "KzG7JNNdcZjt7OxUS0tL4PsdO3ZowYIFkqSkpCQtXLhQzz77rCRp586dSktLU3Z29piMXYjD4ZDT\n",
              "6Rx02Gy2K710AACAcbcyJ1H/fOdsSdKWV0/orRO1Jldkrsu6AWzDhg16+eWXVVNTo/j4eEVHR+v1\n",
              "11/X3XffLa/XK8MwlJWVpW3btikzM1OSdPLkSa1bt06NjY1yOp3avn278vLyxmzsUnEDGAAACFaG\n",
              "YeifXjqq/9hTpiiHXS/9/QplJ0WbXZYpRrSbwWRAmAUAAMGsz+vT/b/aoz2nm5SbHKU//P11Cg+d\n",
              "er955glgAAAAQSjEZtWT9y1UYrR/h4PH/3DU7JJMQZgFAAAIUonRDv3kKwtktUi//7hCv9tfbnZJ\n",
              "444wCwAAEMSumRmvjbfkSpL++Q9HVVQ7tR55S5gFAAAIcn93Q7ZW5iSop8+nb//ukPq8PrNLGjeE\n",
              "WQAAgCBntVr0r2vnKyYiREcr2/TTt4rNLmncEGYBAAAmgSRnmP7HmrmSpJ+9XaxD5S3mFjROCLMA\n",
              "AACTxBfmT9MX5k+T12do4+8OqafPa3ZJY44wCwAAMIn8jzVzlBTtUEl9p37+zimzyxlzhFkAAIBJ\n",
              "JCYiVN/9whxJ0lPvnNKp+g6TKxpbhFkAAIBJ5o68FK2elaher0//9OIRTeYHvhJmAQAAJhmLxaJ/\n",
              "WTNXYSFWfVTSpBcOVJpd0pghzAIAAExC6XER+uZN/ocp/P+vnVCnp9/kisYGYRYAAGCS+vp1mXLH\n",
              "Raiu3aNf7ioxu5wxQZgFAACYpBx2mx67/SpJ0tO7TqmmtcfkikYfYRYAAGASu31uihZnxKqnz6cn\n",
              "Xj9pdjmjjjALAAAwiVksFv3T56+WJO08UKHiunaTKxpdhFkAAIBJboE7Vp+bkyzDkH7yl2KzyxlV\n",
              "hFkAAIAp4JGbciRJfzpcNam6s4RZAACAKWDONNek7M4SZgEAAKaI87uzk+Uxt4RZAACAKWLONJdu\n",
              "vjpJhiFtf/+02eWMCsIsAADAFPLQdVmSpN9/XKHmzl6Tq7lyhFkAAIApZHlWnOZMc6qnz6f/2Ftm\n",
              "djlXjDALAAAwhVgsFj28coYk6TcflKq332dyRVeGMAsAADDFfD5vmpKiHapr9+jN47Vml3NFCLMA\n",
              "AABTTKjdqi8vTpck7QjypQaEWQAAgCnobJjdXdyg8qYuk6sZOcIsAADAFOSOj9C12fEyDOn5jyvM\n",
              "LmfECLMAAABT1L1L3JKk5/eXy+czTK5mZAizAAAAU9Tn5iQrOsyu6tYe7SttMrucESHMAgAATFEO\n",
              "u02fm5MiSfrz4WqTqxkZwiwAAMAUdue8VEnSq0er1e8Nvj1nCbMAAABT2LXZCYqNCFFDR68+Kgm+\n",
              "pQaEWQAAgCksxGbV7Xn+7uzLR4JvqQFhFgAAYIo7u2727RN1Mozg2tWAMAsAADDFLZsRp/AQm2ra\n",
              "enSsus3sci4LYRYAAGCKCwux6bqcBEnSW8frTK7m8hBmAQAAoBuvSpIkvXWSMAsAAIAgs3qWP8we\n",
              "Km9Rc2evydVcOsIsAAAAlOIKU25ylAxD2nM6eLboIswCAABAkrQ8K16S9FFJo8mVXLrLCrOPPPKI\n",
              "MjMzZbFYdOjQocD5oqIirVixQrm5uVqyZIkKCgpMGwMAAMDITPowe88992j37t3KyMgYdH7Dhg1a\n",
              "v369CgsL9eijj2rdunWmjQEAAGBkls6IkySdqGkPmnWzFmMEO+NmZmbqpZdeUn5+vurq6pSdna2m\n",
              "pibZ7XYZhqHU1FTt3r1bTqdzXMeys7OHrdfj8cjj8Qw69/jjj2vbtm0j+78GAAAwSd36o3dVWNuh\n",
              "p+5fqNvmpppdzme64jWz5eXlSk1Nld1ulyRZLBa53W6VlZWN+9iFbNmyRS6Xa9Cxd+/eK710AACA\n",
              "SWdxpr87e7CsxdxCLtGUuAFs06ZNam1tHXQsXbrU7LIAAAAmnPy0GEnSJxUtptZxqexX+gHp6emq\n",
              "rq5Wf39/4Nf+ZWVlcrvdcjqd4zp2IQ6HQw6HY9A5m812pZcOAAAw6cxLd0mSjlS0yuszZLNaTK7o\n",
              "4q64M5uUlKSFCxfq2WeflSTt3LlTaWlpys7OHvcxAAAAXJmcpGhFhNrU2etVSX2H2eV8psu6AWzD\n",
              "hg16+eWXVVNTo/j4eEVHR6u4uFgnT57UunXr1NjYKKfTqe3btysvL0+Sxn3sUm3cuFFbt269rPcA\n",
              "AABMBV9+6kPtLW3SD++Zp7WL080u56JGtJvBZECYBQAAGN4P/nxMv9p9Wg9ek6Hvr5lrdjkXNSVu\n",
              "AAMAAMCluzrVKUk6WdtuciWfjTALAACAQXKToyVJhbUTf80sYRYAAACDZCdFyWKRmjp71dDh+ew3\n",
              "mIgwCwAAgEHCQ23KiIuQJBXWTOylBoRZAAAADJEzsNRgoq+bJcwCAABgiNzkKElSUd3EXjdLmAUA\n",
              "AMAQmfGRkqTypi6TK7k4wiwAAACGyBgIs2caCbMAAAAIMu6BG8AqW7rV5/WZXM2FEWYBAAAwRFK0\n",
              "Qw67VV6foeqWHrPLuSDCLAAAAIawWi1KH+jOnmnqNLmaCyPMAgAAYFhnlxpM5HWzhFkAAAAMa3pM\n",
              "uCSpppVlBgAAAAgyKa4wSVJtG2EWAAAAQSYp2iFJqiHMAgAAINic7czWtXlMruTCCLMAAAAYVrJz\n",
              "YJlBO51ZAAAABJnkaH+YbenqU0+f1+RqhkeYBQAAwLCc4XaFhfjj4kRdakCYBQAAwLAsFosSovw3\n",
              "gTV0EmYBAAAQZGIiQiRJLV29JlcyPMIsAAAALig2IlSS1NzZZ3IlwyPMAgAA4IJiBsJsSzdhFgAA\n",
              "AEEmlmUGAAAACFZnO7PNhFkAAAAEm7Od2eYulhkAAAAgyLCbAQAAAIKWM8wfZjt6+k2uZHiEWQAA\n",
              "AFxQpMMuSers5XG2AAAACDKRoQNh1kNnFgAAAEEmwmGTRJgFAABAEIo6b5mBYRgmVzMUYRYAAAAX\n",
              "FBHq78x6fYY8/T6TqxmKMAsAAIALihhYMytNzKUGhFkAAABckM1qUXiIvzvbNQF3NCDMAgAA4KLO\n",
              "bs/VQWcWAAAAwSYsxB8Ze/rozAIAACDIhNr9kbGXG8AAAAAQbEJtA2HWS5gFAABAkHFMlc5sZmam\n",
              "Zs2apfz8fOXn5+u5556TJBUVFWnFihXKzc3VkiVLVFBQEHjPWIwBAABg9EypZQbPPfecDh06pEOH\n",
              "Dunee++VJG3YsEHr169XYWGhHn30Ua1bty7w+rEYAwAAwOgJhNmpuMygrq5O+/fv1/333y9Juvvu\n",
              "u1VeXq7i4uIxGRuOx+NRW1vboMPrnXh34wEAAExEZ9fMTokngD3wwAPKy8vTQw89pPr6epWXlys1\n",
              "NVV2u39/MovFIrfbrbKysjEZG86WLVvkcrkGHXv37h3tSwcAAJiUpswyg127dunw4cM6cOCAEhIS\n",
              "9OCDD47mx4/Ypk2b1NraOuhYunSp2WUBAAAEhVC7/wlgEzHM2j/7JZfO7XZLkkJCQvStb31Lubm5\n",
              "Sk9PV3V1tfr7+2W322UYhsrKyuR2u+V0Okd9bDgOh0MOh2PQOZvNNpqXDgAAMGlNia25Ojs71dLS\n",
              "Evh+x44dWrBggZKSkrRw4UI9++yzkqSdO3cqLS1N2dnZYzIGAACA0TWRlxmMWme2trZWd999t7xe\n",
              "rwzDUFZWlp555hlJ0tNPP61169Zp8+bNcjqd2r59e+B9YzEGAACA0RNis0iS+idgZ3bUwmxWVpYO\n",
              "Hjw47NisWbP04YcfjtsYAAAARo/V4g+zXsMwuZKheAIYAAAALspmHQizE68xS5gFAADAxQ1kWfno\n",
              "zAIAACDYWAfSrM9HmAUAAECQsbFmFgAAAMHKRmcWAAAAwYrdDAAAABC02M0AAAAAQYtlBgAAAAha\n",
              "LDMAAABA0LINJEY6swAAAAg6dGYBAAAQtM7dAEaYBQAAQJA525mdgI1ZwiwAAAAubiDLTkiEWQAA\n",
              "AFwSQxOvNUuYBQAAwEWdbcyyzAAAAAAYRYRZAAAAXBw3gAEAAACjjzALAACAiwqsmeUGMAAAAGD0\n",
              "EGYBAABwUWf3mWXNLAAAADCKCLMAAAC4KMvAqtkJ2JglzAIAACB4EWYBAABwUayZBQAAwCQw8dIs\n",
              "YRYAAAAXZfnsl5iGMAsAAIBLwjIDAAAABB3LBG7NEmYBAABwSSZgY5YwCwAAgIuzTOBVs4RZAAAA\n",
              "XBJjAi6aJcwCAADg4iZuY1Z2swsAAADAxLZiZryeun+REqNDzS5lCMIsAAAALiotNkJpsRFmlzEs\n",
              "lhkAAAAgaBFmAQAAELQIswAAAAhahFkAAAAELcIsAAAAglZQh9mioiKtWLFCubm5WrJkiQoKCswu\n",
              "CQAAAOMoqMPshg0btH79ehUWFurRRx/VunXrzC4JAAAA4yhow2xdXZ3279+v+++/X5J09913q7y8\n",
              "XMXFxUNe6/F41NbWNujwer3jXTIAAABGWdCG2fLycqWmpspu9z/3wWKxyO12q6ysbMhrt2zZIpfL\n",
              "NejYu3fveJcMAACAURa0YfZybNq0Sa2trYOOpUuXml0WAAAArlDQPs42PT1d1dXV6u/vl91ul2EY\n",
              "Kisrk9vtHvJah8Mhh8Mx6JzNZhuvUgEAADBGgjbMJiUlaeHChXr22We1bt067dy5U2lpacrOzr6k\n",
              "95eWlmrjxo1jXKWf1+vV3r17tXTpUkJ0EGC+gg9zFlyYr+DDnAWXyTRfGRkZ+uY3v3nR11gMwzDG\n",
              "qZ5Rd/LkSa1bt06NjY1yOp3avn278vLyzC5riLa2NrlcLrW2tsrpdJpdDj4D8xV8mLPgwnwFH+Ys\n",
              "uEy1+QrazqwkzZo1Sx9++KHZZQAAAMAkU+IGMAAAAExOhFkAAAAELcLsOHA4HPrud787ZEcFTEzM\n",
              "V/BhzoIL8xV8mLPgMtXmK6hvAAMAAMDURmcWAAAAQYswCwAAgKBFmAUAAEDQIswCAAAgaBFmx1hR\n",
              "UZFWrFih3NxcLVmyRAUFBWaXNGVkZmZq1qxZys/PV35+vp577jlJF5+TsRjD8B555BFlZmbKYrHo\n",
              "0KFDgfPjPT/M3aW50Hxd6OdMYr7M1tPTo7vuuku5ubmaP3++brnlFhUXF0uS6urqdNtttyknJ0dz\n",
              "587Vrl27Au8b7zH4XWy+brjhBs2YMSPwc/ajH/0o8D7mS5KBMbV69Wpj+/bthmEYxvPPP28sXrzY\n",
              "3IKmkIyMDOPgwYNDzl9sTsZiDMN79913jfLy8iHzNN7zw9xdmgvN14V+zgyD+TJbd3e38fLLLxs+\n",
              "n88wDMP46U9/aqxatcowDMP42te+Znz3u981DMMw9u7da0yfPt3o7e01ZQx+F5uvVatWGS+++OKw\n",
              "72O+DIMwO4Zqa2uN6Ohoo6+vzzAMw/D5fEZycrJRVFRkcmVTw3D/yF5sTsZiDJ/t/Hka7/lh7i7f\n",
              "pYZZ5mvi2bdvn5GRkWEYhmFERkYa1dXVgbElS5YYb7zxhiljGN7583WxMMt8GQbLDMZQeXm5UlNT\n",
              "ZbfbJUkWi0Vut1tlZWUmVzZ1PPDAA8rLy9NDDz2k+vr6i87JWIzh8oz3/DB3o+PTP2fS+M8lPtu2\n",
              "bdu0Zs0aNTY2qq+vTykpKYGxzMxMlZWVjfsYLuzsfJ312GOPKS8vT/fee69KSkokifkaQJjFpLVr\n",
              "1y4dPnxYBw4cUEJCgh588EGzSwImHX7OgsPmzZtVXFysLVu2mF0KLsGn5+u3v/2tTpw4ocOHD2vl\n",
              "ypW68847Ta5wYiHMjqH09HRVV1erv79fkmQYhsrKyuR2u02ubGo4+/85JCRE3/rWt/Tee+9ddE7G\n",
              "YgyXZ7znh7m7csP9nEnjP5e4sCeeeEIvvPCCXn31VUVERCg+Pl52u101NTWB15SWlsrtdo/7GIb6\n",
              "9HxJ/p8nyf/biG984xsqKSlRY2Mj8zWAMDuGkpKStHDhQj377LOSpJ07dyotLU3Z2dkmVzb5dXZ2\n",
              "qqWlJfD9jh07tGDBgovOyViM4fKM9/wwd1fmQj9n0vjPJYa3detW7dixQ2+88YZiYmIC59euXaun\n",
              "nnpKkrRv3z5VVlZq1apVpozhnOHmq7+/X7W1tYHX7Ny5U8nJyYqPj5fEfEliN4OxduLECWP58uVG\n",
              "Tk6OsWjRIuPw4cNmlzQlnDp1ysjPzzfy8vKMuXPnGl/84heN06dPG4Zx8TkZizEMb/369cb06dMN\n",
              "m81mJCUlGTNnzjQMY/znh7m7NMPN18V+zgyD+TJbeXm5IcnIysoy5s+fb8yfP99YunSpYRiGUVNT\n",
              "Y9xyyy1Gdna2MXv2bOOtt94KvG+8x+B3ofnq6OgwFi1aZMydO9eYN2+eceONNxqHDh0KvI/5MgyL\n",
              "YRiG2YEaAAAAGAmWGQAAACBoEWYBAAAQtAizAAAACFqEWQAAAAQtwiwAAACCFmEWAAAAQYswCwAA\n",
              "gKBFmAUAAEDQIswCAAAgaBFmAQAAELT+H/pC3AdJyU+kAAAAAElFTkSuQmCC\n",
              "\">\n",
              "      </div>\n",
              "      <script type=\"text/javascript\">\n",
              "        (() => {\n",
              "          const chartElement = document.getElementById(\"chart-43f1352a-c488-4460-9f6d-3bfbd99ad305\");\n",
              "          async function getCodeForChartHandler(event) {\n",
              "            const chartCodeResponse =  await google.colab.kernel.invokeFunction(\n",
              "                'getCodeForChart', [\"chart-43f1352a-c488-4460-9f6d-3bfbd99ad305\"], {});\n",
              "            const responseJson = chartCodeResponse.data['application/json'];\n",
              "            await google.colab.notebook.addCell(responseJson.code, 'code');\n",
              "          }\n",
              "          chartElement.onclick = getCodeForChartHandler;\n",
              "        })();\n",
              "      </script>\n",
              "      <style>\n",
              "        .colab-quickchart-chart-with-code  {\n",
              "            display: block;\n",
              "            float: left;\n",
              "            border: 1px solid transparent;\n",
              "        }\n",
              "\n",
              "        .colab-quickchart-chart-with-code:hover {\n",
              "            cursor: pointer;\n",
              "            border: 1px solid #aaa;\n",
              "        }\n",
              "      </style>"
            ]
          },
          "metadata": {}
        }
      ]
    },
    {
      "source": [
        "from matplotlib import pyplot as plt\n",
        "Speeed[0].plot(kind='hist', bins=20, title=0)\n",
        "plt.gca().spines[['top', 'right',]].set_visible(False)"
      ],
      "cell_type": "code",
      "metadata": {
        "id": "IUhbCg3aO8YC",
        "outputId": "41c11343-3c07-40e1-d192-2e7fe879617c",
        "colab": {
          "base_uri": "https://localhost:8080/",
          "height": 430
        }
      },
      "execution_count": 46,
      "outputs": [
        {
          "output_type": "display_data",
          "data": {
            "text/plain": [
              "<Figure size 640x480 with 1 Axes>"
            ],
            "image/png": "[encoded data removed]"
          },
          "metadata": {}
        }
      ]
    },
    {
      "source": [
        "from matplotlib import pyplot as plt\n",
        "Speeed[0].plot(kind='line', figsize=(8, 4), title=0)\n",
        "plt.gca().spines[['top', 'right']].set_visible(False)\n"
      ],
      "cell_type": "code",
      "metadata": {
        "id": "8t_KBBGYOwlW",
        "outputId": "29a2bce6-86e9-442b-b0e8-ffbbf94616a6",
        "colab": {
          "base_uri": "https://localhost:8080/",
          "height": 368
        }
      },
      "execution_count": 45,
      "outputs": [
        {
          "output_type": "display_data",
          "data": {
            "text/plain": [
              "<Figure size 800x400 with 1 Axes>"
            ],
            "image/png": "[encoded data removed]"
          },
          "metadata": {}
        }
      ]
    },
    {
      "cell_type": "code",
      "source": [],
      "metadata": {
        "id": "ztiX3if6OSD_"
      },
      "execution_count": null,
      "outputs": []
    }
  ]
}