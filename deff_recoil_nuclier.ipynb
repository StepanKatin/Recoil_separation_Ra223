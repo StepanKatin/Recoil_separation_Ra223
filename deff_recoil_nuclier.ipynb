{
  "nbformat": 4,
  "nbformat_minor": 0,
  "metadata": {
    "colab": {
      "provenance": [],
      "authorship_tag": "ABX9TyOj4XfsvsZ6iT0DvPE0jiHn",
      "include_colab_link": true
    },
    "kernelspec": {
      "name": "python3",
      "display_name": "Python 3"
    },
    "language_info": {
      "name": "python"
    }
  },
  "cells": [
    {
      "cell_type": "markdown",
      "metadata": {
        "id": "view-in-github",
        "colab_type": "text"
      },
      "source": [
        "<a href=\"https://colab.research.google.com/github/StepanKatin/Recoil_separation_Ra223/blob/Calculate-mileage-223Ra-in-ari/deff_recoil_nuclier.ipynb\" target=\"_parent\"><img src=\"https://colab.research.google.com/assets/colab-badge.svg\" alt=\"Open In Colab\"/></a>"
      ]
    },
    {
      "cell_type": "code",
      "execution_count": 2,
      "metadata": {
        "id": "GKJy5T14Wf0V"
      },
      "outputs": [],
      "source": [
        "import math as m"
      ]
    },
    {
      "cell_type": "code",
      "source": [
        "import pandas as pd\n",
        "import numpy as np\n",
        "import random as r"
      ],
      "metadata": {
        "id": "rsMBt7EkWrlA"
      },
      "execution_count": 3,
      "outputs": []
    },
    {
      "cell_type": "code",
      "source": [
        "import scipy.integrate as integr"
      ],
      "metadata": {
        "id": "mdFHX8k2HkRC"
      },
      "execution_count": 16,
      "outputs": []
    },
    {
      "cell_type": "markdown",
      "source": [
        "# Введем константы"
      ],
      "metadata": {
        "id": "JAU-bpXtvAYd"
      }
    },
    {
      "cell_type": "code",
      "source": [
        "me = 9.1093837015*10**(-31) #кг масса электрона\n",
        "Me= 511000 #эВ масса покоя электрона\n",
        "r0 = 2.818*10**(-15) # м радиус электрона\n",
        "Ee = 511*10**(3) *  1.602176634*10**(-19) #Дж энергия покоя электрона в джоулях\n",
        "c = (Ee/me)**(0.5) # вывод константы скорости света м\\с\n",
        "c # м\\с"
      ],
      "metadata": {
        "colab": {
          "base_uri": "https://localhost:8080/"
        },
        "id": "-0EFYOOBeMCt",
        "outputId": "44fd85cc-1967-4c6b-d9c5-7c271dae0403"
      },
      "execution_count": 4,
      "outputs": [
        {
          "output_type": "execute_result",
          "data": {
            "text/plain": [
              "299792766.0075499"
            ]
          },
          "metadata": {},
          "execution_count": 4
        }
      ]
    },
    {
      "cell_type": "code",
      "source": [],
      "metadata": {
        "id": "BFBCB8MBeMMM"
      },
      "execution_count": 4,
      "outputs": []
    },
    {
      "cell_type": "markdown",
      "source": [
        "# В данном эксперементе рассмаривается пролет ядра отдачи радия 223, образовавшегося в результате альфа-распала 227Th.\n",
        "\n",
        "> 227Th --> 223Ra + 4He\n"
      ],
      "metadata": {
        "id": "ITTi1kGnvMOk"
      }
    },
    {
      "cell_type": "markdown",
      "source": [
        "# Введем данные о ионизирующей частице 223Ra"
      ],
      "metadata": {
        "id": "v0EL6hf90qF5"
      }
    },
    {
      "cell_type": "code",
      "source": [
        "E = 100*10**3 #эВ энергия отдачи ядра радия 223\n",
        "M = 223*931.49*10**(9) #МэВ масса ядра радия 223\n",
        "V = 3.05*10**(5) # м\\с скорость ядра отдачи радия 223\n",
        "B = V/c # коэф. бетта\n",
        "Z = 2 # заряд ядра отдачи в единицах позитрона"
      ],
      "metadata": {
        "id": "m5PURdQdlHuE"
      },
      "execution_count": 17,
      "outputs": []
    },
    {
      "cell_type": "markdown",
      "source": [
        "\n",
        "# Введем данные среды\n",
        "Среда представляет воздух давлением 10 -5 Па, что характерно для высокого вакуума"
      ],
      "metadata": {
        "id": "h1D5AhLj3d_P"
      }
    },
    {
      "cell_type": "code",
      "source": [
        "vkam = 0.0628 #м3 объем полусферической камеры радиусом 0,1 м\n",
        "I = 14.53 # эВ ионизационный потенциал азота\n"
      ],
      "metadata": {
        "id": "CihEFtci3hle"
      },
      "execution_count": 8,
      "outputs": []
    },
    {
      "cell_type": "code",
      "source": [
        "mol = 10**(-5)*vkam/(8.314*300) # моль воздуха в камере объемом vkam используя уравнение Мендилеева-Клаперона\n",
        "Na =  6.02214076*10**(23) #число авогадро\n",
        "Ngaza = Na*mol # шт количество атомов воздуха в объеме камеры\n",
        "mgaza = mol*29 # г масса воздуха в камере\n",
        "vkamcm3 = vkam*10**(6) #см3 перевод объема камеры в см3\n",
        "air_density = mgaza/vkamcm3 # г\\см3 плотность воздуха в камере\n",
        "A_air = 28.98 #а.е.м. среднее массовое число воздуха\n",
        "Z_air = 7.3 # единицы позитрона примем средний заряд ядер воздуха за заряд ядра азота"
      ],
      "metadata": {
        "id": "nneuKi_lJiFF"
      },
      "execution_count": 12,
      "outputs": []
    },
    {
      "cell_type": "markdown",
      "source": [
        "# Произведем проверку пригодности формулы Бете-Блоха для расчета (http://nuclphys.sinp.msu.ru/partmat/pm01.htm)"
      ],
      "metadata": {
        "id": "i0wWyrTL09d3"
      }
    },
    {
      "cell_type": "code",
      "source": [
        "((M*(c**2))/Me)/E"
      ],
      "metadata": {
        "colab": {
          "base_uri": "https://localhost:8080/"
        },
        "id": "Jc3y_A79k_P7",
        "outputId": "125bcf0f-baee-4539-f4fe-f90c5e5a114e"
      },
      "execution_count": 13,
      "outputs": [
        {
          "output_type": "execute_result",
          "data": {
            "text/plain": [
              "3.768143479218574e+20"
            ]
          },
          "metadata": {},
          "execution_count": 13
        }
      ]
    },
    {
      "cell_type": "markdown",
      "source": [
        "# Вывод предыдущей ячейки подтверждает легитимность использования формулы Бете-Блоха для расчета ионизационных потерь энергии ионизирующей частицы.\n",
        "\n",
        ">E << (Mc2 )/me\n",
        "\n"
      ],
      "metadata": {
        "id": "yAx1ihFfumCB"
      }
    },
    {
      "cell_type": "code",
      "source": [
        "3.1*10**(5)*((Z_air*(Z**2)*air_density)/(A_air*(B**2)))*(11.2+m.log((B**2)/(Z_air*(1-B**2)))-B**2)"
      ],
      "metadata": {
        "colab": {
          "base_uri": "https://localhost:8080/"
        },
        "id": "L8RhMWYH3Yar",
        "outputId": "b04465b2-e45b-4578-a0e1-35618336f312"
      },
      "execution_count": 15,
      "outputs": [
        {
          "output_type": "execute_result",
          "data": {
            "text/plain": [
              "-0.16031396922384522"
            ]
          },
          "metadata": {},
          "execution_count": 15
        }
      ]
    },
    {
      "cell_type": "code",
      "source": [
        "3.1*10**(5)*((Z_air*(Z**2)*air_density)/(A_air*(B**2)))*(11.2+m.log((B**2)/(Z_air*(1-B**2)))"
      ],
      "metadata": {
        "id": "9iDUn37wjHl8"
      },
      "execution_count": null,
      "outputs": []
    },
    {
      "cell_type": "code",
      "source": [
        "def radium_223_ionization_energy_loss_in_air_f(E):\n",
        "  me = 9.1093837015*10**(-31) #кг масса электрона\n",
        "  Me= 511000 #эВ масса покоя электрона\n",
        "  Ee = 511*10**(3) *  1.602176634*10**(-19) #Дж энергия покоя электрона в джоулях\n",
        "  c = (Ee/me)**(0.5) # вывод константы скорости света м\\с\n",
        "  M = 223*931.49*10**(9) #эВ масса ядра радия 223\n",
        "  V = 3.05*10**(5) # м\\с скорость ядра отдачи радия 223\n",
        "  B = V/c # коэф. бетта\n",
        "  Z = 2 # заряд ядра отдачи в единицах позитрона\n",
        "  air_density = mgaza/vkamcm3 # г\\см3 плотность воздуха в камере\n",
        "  A_air = 28.98 #а.е.м. среднее массовое число воздуха\n",
        "  Z_air = 7.3 # единицы позитрона примем средний заряд ядер воздуха за заряд ядра азота\n",
        "  return (3.1*10**(5)*((Z_air*(Z**2)*air_density)/(A_air*(B**2)))*(11.2+m.log((B**2)/(Z_air*(1-B**2)))-B**2))**(-1)\n"
      ],
      "metadata": {
        "id": "7llbRyyrYRpN"
      },
      "execution_count": 23,
      "outputs": []
    },
    {
      "cell_type": "code",
      "source": [
        "integr.quad(radium_223_ionization_energy_loss_in_air_f, E, 0)"
      ],
      "metadata": {
        "colab": {
          "base_uri": "https://localhost:8080/"
        },
        "id": "XFlEptQ4YVsu",
        "outputId": "63803df5-b4ac-4e7d-b90a-0093b04bc67a"
      },
      "execution_count": 29,
      "outputs": [
        {
          "output_type": "execute_result",
          "data": {
            "text/plain": [
              "(623775.9596630704, 6.925304326255936e-09)"
            ]
          },
          "metadata": {},
          "execution_count": 29
        }
      ]
    },
    {
      "cell_type": "code",
      "source": [],
      "metadata": {
        "id": "lC4phGe9Jn1r"
      },
      "execution_count": 27,
      "outputs": []
    },
    {
      "cell_type": "code",
      "source": [],
      "metadata": {
        "id": "wWRZiQlbK_3d"
      },
      "execution_count": null,
      "outputs": []
    }
  ]
}